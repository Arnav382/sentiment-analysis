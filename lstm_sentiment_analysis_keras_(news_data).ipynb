{
  "nbformat": 4,
  "nbformat_minor": 0,
  "metadata": {
    "_change_revision": 0,
    "_is_fork": false,
    "accelerator": "TPU",
    "colab": {
      "name": "lstm-sentiment-analysis-keras (news data).ipynb",
      "provenance": [],
      "collapsed_sections": [],
      "include_colab_link": true
    },
    "kernelspec": {
      "display_name": "Python 3",
      "language": "python",
      "name": "python3"
    },
    "language_info": {
      "codemirror_mode": {
        "name": "ipython",
        "version": 3
      },
      "file_extension": ".py",
      "mimetype": "text/x-python",
      "name": "python",
      "nbconvert_exporter": "python",
      "pygments_lexer": "ipython3",
      "version": "3.8.5"
    }
  },
  "cells": [
    {
      "cell_type": "markdown",
      "metadata": {
        "id": "view-in-github",
        "colab_type": "text"
      },
      "source": [
        "<a href=\"https://colab.research.google.com/github/Arnav382/sentiment-analysis/blob/main/lstm_sentiment_analysis_keras_(news_data).ipynb\" target=\"_parent\"><img src=\"https://colab.research.google.com/assets/colab-badge.svg\" alt=\"Open In Colab\"/></a>"
      ]
    },
    {
      "cell_type": "code",
      "metadata": {
        "id": "Ju12aYMgItlT"
      },
      "source": [
        "import numpy as np\n",
        "import pandas as pd \n",
        "import tensorflow as tf\n",
        "\n",
        "from sklearn.feature_extraction.text import CountVectorizer\n",
        "from keras.preprocessing.text import Tokenizer\n",
        "from keras.preprocessing.sequence import pad_sequences\n",
        "from keras.models import Sequential\n",
        "from keras.layers import Dense, Embedding, LSTM, SpatialDropout1D\n",
        "from sklearn.model_selection import train_test_split\n",
        "from keras.utils.np_utils import to_categorical\n",
        "import re"
      ],
      "execution_count": 1,
      "outputs": []
    },
    {
      "cell_type": "code",
      "metadata": {
        "id": "uOkgxZt-oNSX"
      },
      "source": [
        "import re\n",
        "import nltk\n",
        "import string\n",
        "from nltk.corpus import stopwords\n",
        "from nltk.tokenize import word_tokenize\n",
        "from nltk.stem import PorterStemmer, WordNetLemmatizer\n",
        "from sklearn.feature_extraction.text import TfidfVectorizer\n",
        "from sklearn.model_selection import train_test_split"
      ],
      "execution_count": 2,
      "outputs": []
    },
    {
      "cell_type": "code",
      "metadata": {
        "colab": {
          "base_uri": "https://localhost:8080/"
        },
        "id": "0rD5riyspDey",
        "outputId": "264cf0ed-173c-4eab-c1f8-fc5cf6dc407f"
      },
      "source": [
        "nltk.download(\"stopwords\")\n",
        "nltk.download('punkt')\n",
        "stop_words= set(stopwords.words(\"english\"))"
      ],
      "execution_count": 3,
      "outputs": [
        {
          "output_type": "stream",
          "text": [
            "[nltk_data] Downloading package stopwords to /root/nltk_data...\n",
            "[nltk_data]   Unzipping corpora/stopwords.zip.\n",
            "[nltk_data] Downloading package punkt to /root/nltk_data...\n",
            "[nltk_data]   Unzipping tokenizers/punkt.zip.\n"
          ],
          "name": "stdout"
        }
      ]
    },
    {
      "cell_type": "markdown",
      "metadata": {
        "id": "Dc9FQ9Kyu87P"
      },
      "source": [
        "function to remove stopwords"
      ]
    },
    {
      "cell_type": "code",
      "metadata": {
        "id": "eE-5ASMEoOJQ"
      },
      "source": [
        "def remove_stopwods(df,label):\n",
        "  j=0\n",
        "  for i in df[label]:\n",
        "    text_tokens=word_tokenize(i)\n",
        "    filtered_words=[word for word in text_tokens if word not in stop_words]\n",
        "    df[label][j]=filtered_words\n",
        "    j=j+1"
      ],
      "execution_count": 4,
      "outputs": []
    },
    {
      "cell_type": "markdown",
      "metadata": {
        "id": "WMaLKqLxu_R9"
      },
      "source": [
        "Importing DataSet of news"
      ]
    },
    {
      "cell_type": "code",
      "metadata": {
        "id": "WDx8u8RKI7uC"
      },
      "source": [
        "  # #Arnav Directory\n",
        "  # from google.colab import drive \n",
        "  # drive.mount(\"/content/gdrive\")\n",
        "  # data = pd.read_csv(\"/content/gdrive/My Drive/JioMeetSentiments-2.csv\")\n",
        "  # test_data=pd.read_csv(\"/content/gdrive/My Drive/NewsData.csv\")"
      ],
      "execution_count": 5,
      "outputs": []
    },
    {
      "cell_type": "code",
      "metadata": {
        "id": "c1tqPP0bAXgH",
        "colab": {
          "base_uri": "https://localhost:8080/"
        },
        "outputId": "40f7360b-0e8c-448b-e4ee-9f4202211e5b"
      },
      "source": [
        " # rajat directory\n",
        "from google.colab import drive \n",
        "drive.mount(\"/content/gdrive\")\n",
        "data = pd.read_csv(\"/content/gdrive/My Drive/jio_data/jio_news_finaldata.csv\")"
      ],
      "execution_count": 6,
      "outputs": [
        {
          "output_type": "stream",
          "text": [
            "Mounted at /content/gdrive\n"
          ],
          "name": "stdout"
        }
      ]
    },
    {
      "cell_type": "code",
      "metadata": {
        "colab": {
          "base_uri": "https://localhost:8080/",
          "height": 417
        },
        "id": "xrcnf_WzzGqP",
        "outputId": "392c687f-7ee3-4412-ca4e-1dc9671824f2"
      },
      "source": [
        "data"
      ],
      "execution_count": 7,
      "outputs": [
        {
          "output_type": "execute_result",
          "data": {
            "text/html": [
              "<div>\n",
              "<style scoped>\n",
              "    .dataframe tbody tr th:only-of-type {\n",
              "        vertical-align: middle;\n",
              "    }\n",
              "\n",
              "    .dataframe tbody tr th {\n",
              "        vertical-align: top;\n",
              "    }\n",
              "\n",
              "    .dataframe thead th {\n",
              "        text-align: right;\n",
              "    }\n",
              "</style>\n",
              "<table border=\"1\" class=\"dataframe\">\n",
              "  <thead>\n",
              "    <tr style=\"text-align: right;\">\n",
              "      <th></th>\n",
              "      <th>title</th>\n",
              "      <th>sentiment_true_label_str</th>\n",
              "      <th>sentiment_true_label</th>\n",
              "      <th>parsed_content</th>\n",
              "    </tr>\n",
              "  </thead>\n",
              "  <tbody>\n",
              "    <tr>\n",
              "      <th>0</th>\n",
              "      <td>Air India passenger data breach reveals SITA h...</td>\n",
              "      <td>neutral</td>\n",
              "      <td>1.0</td>\n",
              "      <td>Three months after air transport data giant S...</td>\n",
              "    </tr>\n",
              "    <tr>\n",
              "      <th>1</th>\n",
              "      <td>India's Bharti Airtel swings to quarterly prof...</td>\n",
              "      <td>neutral</td>\n",
              "      <td>1.0</td>\n",
              "      <td>A man wearing a protective face shield cleans...</td>\n",
              "    </tr>\n",
              "    <tr>\n",
              "      <th>2</th>\n",
              "      <td>India private equity investments hit record hi...</td>\n",
              "      <td>positive</td>\n",
              "      <td>2.0</td>\n",
              "      <td>A broker reacts while trading at his computer...</td>\n",
              "    </tr>\n",
              "    <tr>\n",
              "      <th>3</th>\n",
              "      <td>Analysis: Frequent run-ins with India gov't cl...</td>\n",
              "      <td>neutral</td>\n",
              "      <td>1.0</td>\n",
              "      <td>3D printed Facebook and Twitter logos are pla...</td>\n",
              "    </tr>\n",
              "    <tr>\n",
              "      <th>4</th>\n",
              "      <td>[Update: June 05] Apple iOS 14/iPadOS 14 updat...</td>\n",
              "      <td>neutral</td>\n",
              "      <td>1.0</td>\n",
              "      <td>New updates are being added at the bottom of ...</td>\n",
              "    </tr>\n",
              "    <tr>\n",
              "      <th>...</th>\n",
              "      <td>...</td>\n",
              "      <td>...</td>\n",
              "      <td>...</td>\n",
              "      <td>...</td>\n",
              "    </tr>\n",
              "    <tr>\n",
              "      <th>759</th>\n",
              "      <td>Bollywood actress files plea against 5G implem...</td>\n",
              "      <td>neutral</td>\n",
              "      <td>1.0</td>\n",
              "      <td>Juhi Chawla gripped by, well, Darr! One of the...</td>\n",
              "    </tr>\n",
              "    <tr>\n",
              "      <th>760</th>\n",
              "      <td>What’s up with… Amazon &amp; MGM, French media gia...</td>\n",
              "      <td>neutral</td>\n",
              "      <td>1.0</td>\n",
              "      <td>May 18, 2021 The speculation linking Amazon t...</td>\n",
              "    </tr>\n",
              "    <tr>\n",
              "      <th>761</th>\n",
              "      <td>Reliance AGM next week: From 5G launch, Jio Bo...</td>\n",
              "      <td>neutral</td>\n",
              "      <td>1.0</td>\n",
              "      <td>Jump to navigation Speak Now We are just a w...</td>\n",
              "    </tr>\n",
              "    <tr>\n",
              "      <th>762</th>\n",
              "      <td>Airtel 5G network trial goes live in Gurgaon, ...</td>\n",
              "      <td>neutral</td>\n",
              "      <td>1.0</td>\n",
              "      <td>The trial delivered a peak speed of over 1Gbp...</td>\n",
              "    </tr>\n",
              "    <tr>\n",
              "      <th>763</th>\n",
              "      <td>Itel A23 Pro Debuts at Price of Rs. 3,899 With...</td>\n",
              "      <td>neutral</td>\n",
              "      <td>1.0</td>\n",
              "      <td>Itel A23 Pro is an entry-level smartphone Ite...</td>\n",
              "    </tr>\n",
              "  </tbody>\n",
              "</table>\n",
              "<p>764 rows × 4 columns</p>\n",
              "</div>"
            ],
            "text/plain": [
              "                                                 title  ...                                     parsed_content\n",
              "0    Air India passenger data breach reveals SITA h...  ...   Three months after air transport data giant S...\n",
              "1    India's Bharti Airtel swings to quarterly prof...  ...   A man wearing a protective face shield cleans...\n",
              "2    India private equity investments hit record hi...  ...   A broker reacts while trading at his computer...\n",
              "3    Analysis: Frequent run-ins with India gov't cl...  ...   3D printed Facebook and Twitter logos are pla...\n",
              "4    [Update: June 05] Apple iOS 14/iPadOS 14 updat...  ...   New updates are being added at the bottom of ...\n",
              "..                                                 ...  ...                                                ...\n",
              "759  Bollywood actress files plea against 5G implem...  ...  Juhi Chawla gripped by, well, Darr! One of the...\n",
              "760  What’s up with… Amazon & MGM, French media gia...  ...   May 18, 2021 The speculation linking Amazon t...\n",
              "761  Reliance AGM next week: From 5G launch, Jio Bo...  ...    Jump to navigation Speak Now We are just a w...\n",
              "762  Airtel 5G network trial goes live in Gurgaon, ...  ...   The trial delivered a peak speed of over 1Gbp...\n",
              "763  Itel A23 Pro Debuts at Price of Rs. 3,899 With...  ...   Itel A23 Pro is an entry-level smartphone Ite...\n",
              "\n",
              "[764 rows x 4 columns]"
            ]
          },
          "metadata": {
            "tags": []
          },
          "execution_count": 7
        }
      ]
    },
    {
      "cell_type": "code",
      "metadata": {
        "id": "PiEBXYwCItlV"
      },
      "source": [
        "data=data[[\"title\",\"parsed_content\",\"sentiment_true_label_str\",\"sentiment_true_label\"]]"
      ],
      "execution_count": 8,
      "outputs": []
    },
    {
      "cell_type": "code",
      "metadata": {
        "id": "tQv6nfbWBTpM"
      },
      "source": [
        "data['parsed_content']= data['parsed_content'].astype(\"str\")\n",
        "data['title']= data['title'].astype(\"str\")\n"
      ],
      "execution_count": 9,
      "outputs": []
    },
    {
      "cell_type": "code",
      "metadata": {
        "id": "Mif-j5SxDCNb"
      },
      "source": [
        "data['sentiment_true_label']=data['sentiment_true_label'].fillna(1)\n",
        "data['sentiment_true_label']=data['sentiment_true_label'].astype(\"int\")"
      ],
      "execution_count": 10,
      "outputs": []
    },
    {
      "cell_type": "code",
      "metadata": {
        "colab": {
          "base_uri": "https://localhost:8080/",
          "height": 203
        },
        "id": "g-w4Xv32DCHx",
        "outputId": "8a26eba8-72cc-4924-a78c-b8b181eb7819"
      },
      "source": [
        "data.head()"
      ],
      "execution_count": 11,
      "outputs": [
        {
          "output_type": "execute_result",
          "data": {
            "text/html": [
              "<div>\n",
              "<style scoped>\n",
              "    .dataframe tbody tr th:only-of-type {\n",
              "        vertical-align: middle;\n",
              "    }\n",
              "\n",
              "    .dataframe tbody tr th {\n",
              "        vertical-align: top;\n",
              "    }\n",
              "\n",
              "    .dataframe thead th {\n",
              "        text-align: right;\n",
              "    }\n",
              "</style>\n",
              "<table border=\"1\" class=\"dataframe\">\n",
              "  <thead>\n",
              "    <tr style=\"text-align: right;\">\n",
              "      <th></th>\n",
              "      <th>title</th>\n",
              "      <th>parsed_content</th>\n",
              "      <th>sentiment_true_label_str</th>\n",
              "      <th>sentiment_true_label</th>\n",
              "    </tr>\n",
              "  </thead>\n",
              "  <tbody>\n",
              "    <tr>\n",
              "      <th>0</th>\n",
              "      <td>Air India passenger data breach reveals SITA h...</td>\n",
              "      <td>Three months after air transport data giant S...</td>\n",
              "      <td>neutral</td>\n",
              "      <td>1</td>\n",
              "    </tr>\n",
              "    <tr>\n",
              "      <th>1</th>\n",
              "      <td>India's Bharti Airtel swings to quarterly prof...</td>\n",
              "      <td>A man wearing a protective face shield cleans...</td>\n",
              "      <td>neutral</td>\n",
              "      <td>1</td>\n",
              "    </tr>\n",
              "    <tr>\n",
              "      <th>2</th>\n",
              "      <td>India private equity investments hit record hi...</td>\n",
              "      <td>A broker reacts while trading at his computer...</td>\n",
              "      <td>positive</td>\n",
              "      <td>2</td>\n",
              "    </tr>\n",
              "    <tr>\n",
              "      <th>3</th>\n",
              "      <td>Analysis: Frequent run-ins with India gov't cl...</td>\n",
              "      <td>3D printed Facebook and Twitter logos are pla...</td>\n",
              "      <td>neutral</td>\n",
              "      <td>1</td>\n",
              "    </tr>\n",
              "    <tr>\n",
              "      <th>4</th>\n",
              "      <td>[Update: June 05] Apple iOS 14/iPadOS 14 updat...</td>\n",
              "      <td>New updates are being added at the bottom of ...</td>\n",
              "      <td>neutral</td>\n",
              "      <td>1</td>\n",
              "    </tr>\n",
              "  </tbody>\n",
              "</table>\n",
              "</div>"
            ],
            "text/plain": [
              "                                               title  ... sentiment_true_label\n",
              "0  Air India passenger data breach reveals SITA h...  ...                    1\n",
              "1  India's Bharti Airtel swings to quarterly prof...  ...                    1\n",
              "2  India private equity investments hit record hi...  ...                    2\n",
              "3  Analysis: Frequent run-ins with India gov't cl...  ...                    1\n",
              "4  [Update: June 05] Apple iOS 14/iPadOS 14 updat...  ...                    1\n",
              "\n",
              "[5 rows x 4 columns]"
            ]
          },
          "metadata": {
            "tags": []
          },
          "execution_count": 11
        }
      ]
    },
    {
      "cell_type": "code",
      "metadata": {
        "id": "ymA2ANjOdKTs",
        "colab": {
          "base_uri": "https://localhost:8080/"
        },
        "outputId": "382d56f6-143d-438c-9d9e-91bad6d7beee"
      },
      "source": [
        "remove_stopwods(data,\"title\")\n",
        "remove_stopwods(data,\"parsed_content\")"
      ],
      "execution_count": 12,
      "outputs": [
        {
          "output_type": "stream",
          "text": [
            "/usr/local/lib/python3.7/dist-packages/ipykernel_launcher.py:6: SettingWithCopyWarning: \n",
            "A value is trying to be set on a copy of a slice from a DataFrame\n",
            "\n",
            "See the caveats in the documentation: https://pandas.pydata.org/pandas-docs/stable/user_guide/indexing.html#returning-a-view-versus-a-copy\n",
            "  \n"
          ],
          "name": "stderr"
        }
      ]
    },
    {
      "cell_type": "code",
      "metadata": {
        "colab": {
          "base_uri": "https://localhost:8080/",
          "height": 203
        },
        "id": "7XUuM1gi6uFX",
        "outputId": "169a39ed-dd0d-4d5a-a972-596fa47270c3"
      },
      "source": [
        "data.head()"
      ],
      "execution_count": 13,
      "outputs": [
        {
          "output_type": "execute_result",
          "data": {
            "text/html": [
              "<div>\n",
              "<style scoped>\n",
              "    .dataframe tbody tr th:only-of-type {\n",
              "        vertical-align: middle;\n",
              "    }\n",
              "\n",
              "    .dataframe tbody tr th {\n",
              "        vertical-align: top;\n",
              "    }\n",
              "\n",
              "    .dataframe thead th {\n",
              "        text-align: right;\n",
              "    }\n",
              "</style>\n",
              "<table border=\"1\" class=\"dataframe\">\n",
              "  <thead>\n",
              "    <tr style=\"text-align: right;\">\n",
              "      <th></th>\n",
              "      <th>title</th>\n",
              "      <th>parsed_content</th>\n",
              "      <th>sentiment_true_label_str</th>\n",
              "      <th>sentiment_true_label</th>\n",
              "    </tr>\n",
              "  </thead>\n",
              "  <tbody>\n",
              "    <tr>\n",
              "      <th>0</th>\n",
              "      <td>[Air, India, passenger, data, breach, reveals,...</td>\n",
              "      <td>[Three, months, air, transport, data, giant, S...</td>\n",
              "      <td>neutral</td>\n",
              "      <td>1</td>\n",
              "    </tr>\n",
              "    <tr>\n",
              "      <th>1</th>\n",
              "      <td>[India, 's, Bharti, Airtel, swings, quarterly,...</td>\n",
              "      <td>[A, man, wearing, protective, face, shield, cl...</td>\n",
              "      <td>neutral</td>\n",
              "      <td>1</td>\n",
              "    </tr>\n",
              "    <tr>\n",
              "      <th>2</th>\n",
              "      <td>[India, private, equity, investments, hit, rec...</td>\n",
              "      <td>[A, broker, reacts, trading, computer, termina...</td>\n",
              "      <td>positive</td>\n",
              "      <td>2</td>\n",
              "    </tr>\n",
              "    <tr>\n",
              "      <th>3</th>\n",
              "      <td>[Analysis, :, Frequent, run-ins, India, gov't,...</td>\n",
              "      <td>[3D, printed, Facebook, Twitter, logos, placed...</td>\n",
              "      <td>neutral</td>\n",
              "      <td>1</td>\n",
              "    </tr>\n",
              "    <tr>\n",
              "      <th>4</th>\n",
              "      <td>[[, Update, :, June, 05, ], Apple, iOS, 14/iPa...</td>\n",
              "      <td>[New, updates, added, bottom, story…, Original...</td>\n",
              "      <td>neutral</td>\n",
              "      <td>1</td>\n",
              "    </tr>\n",
              "  </tbody>\n",
              "</table>\n",
              "</div>"
            ],
            "text/plain": [
              "                                               title  ... sentiment_true_label\n",
              "0  [Air, India, passenger, data, breach, reveals,...  ...                    1\n",
              "1  [India, 's, Bharti, Airtel, swings, quarterly,...  ...                    1\n",
              "2  [India, private, equity, investments, hit, rec...  ...                    2\n",
              "3  [Analysis, :, Frequent, run-ins, India, gov't,...  ...                    1\n",
              "4  [[, Update, :, June, 05, ], Apple, iOS, 14/iPa...  ...                    1\n",
              "\n",
              "[5 rows x 4 columns]"
            ]
          },
          "metadata": {
            "tags": []
          },
          "execution_count": 13
        }
      ]
    },
    {
      "cell_type": "code",
      "metadata": {
        "id": "CCLLmKjN66TB"
      },
      "source": [
        "def convertList(list1):  \n",
        "    str = ''  # initializing the empty string  \n",
        "    for i in list1: #Iterating and adding the list element to the str variable  \n",
        "      str =str+ \" \"+i\n",
        "    return str"
      ],
      "execution_count": 14,
      "outputs": []
    },
    {
      "cell_type": "code",
      "metadata": {
        "colab": {
          "base_uri": "https://localhost:8080/"
        },
        "id": "f9pSXFDYLW4o",
        "outputId": "e5149c2b-c7ab-47bb-b45f-7f2c0ed71036"
      },
      "source": [
        "k=0\n",
        "while(k<len(data['title'])):\n",
        "  data['title'][k]= convertList(data['title'][k])\n",
        "  data['parsed_content'][k]= convertList(data['parsed_content'][k])\n",
        "  k=k+1"
      ],
      "execution_count": 15,
      "outputs": [
        {
          "output_type": "stream",
          "text": [
            "/usr/local/lib/python3.7/dist-packages/ipykernel_launcher.py:3: SettingWithCopyWarning: \n",
            "A value is trying to be set on a copy of a slice from a DataFrame\n",
            "\n",
            "See the caveats in the documentation: https://pandas.pydata.org/pandas-docs/stable/user_guide/indexing.html#returning-a-view-versus-a-copy\n",
            "  This is separate from the ipykernel package so we can avoid doing imports until\n",
            "/usr/local/lib/python3.7/dist-packages/ipykernel_launcher.py:4: SettingWithCopyWarning: \n",
            "A value is trying to be set on a copy of a slice from a DataFrame\n",
            "\n",
            "See the caveats in the documentation: https://pandas.pydata.org/pandas-docs/stable/user_guide/indexing.html#returning-a-view-versus-a-copy\n",
            "  after removing the cwd from sys.path.\n"
          ],
          "name": "stderr"
        }
      ]
    },
    {
      "cell_type": "code",
      "metadata": {
        "colab": {
          "base_uri": "https://localhost:8080/",
          "height": 35
        },
        "id": "VHtfrmnG7hv5",
        "outputId": "f2f21c54-f302-4078-b69f-d5b9a93451cf"
      },
      "source": [
        "data['title'][0]"
      ],
      "execution_count": 16,
      "outputs": [
        {
          "output_type": "execute_result",
          "data": {
            "application/vnd.google.colaboratory.intrinsic+json": {
              "type": "string"
            },
            "text/plain": [
              "' Air India passenger data breach reveals SITA hack worse first thought'"
            ]
          },
          "metadata": {
            "tags": []
          },
          "execution_count": 16
        }
      ]
    },
    {
      "cell_type": "code",
      "metadata": {
        "colab": {
          "base_uri": "https://localhost:8080/",
          "height": 120
        },
        "id": "wLpC21d2ACnx",
        "outputId": "60f3b8f0-6e26-4ef5-d56a-b6d5caa7f04c"
      },
      "source": [
        "data[\"parsed_content\"][0]"
      ],
      "execution_count": 17,
      "outputs": [
        {
          "output_type": "execute_result",
          "data": {
            "application/vnd.google.colaboratory.intrinsic+json": {
              "type": "string"
            },
            "text/plain": [
              "' Three months air transport data giant SITA reported data breach , still learning damage . Air India said week personal data 4.5 million passengers compromised following incident SITA , Indian flag carrier airline ’ data processor . The stolen information included passengers ’ names , credit card details , date birth , contact information , passport information , ticket information , Star Alliance Air India frequent flyer data , Air India said statement ( PDF ) . CVV/CVC data credit cards held SITA , said Air India urged passengers change passwords “ wherever applicable ensure safety personal data. ” The attack compromised data passengers registered Indian airline past decade , August 26 , 2011 February 3 , 2021 , Air India said statement . The revelation comes months SITA said suffered data breach involved passenger data . At time , SITA said notified several airlines — Malaysia Airlines , Finnair , Singapore Airlines , Jeju Air , Cathay Pacific , Air New Zealand , Lufthansa — breach . The Geneva , Switzerland-headquartered firm — said serve 90 % world ’ airlines — declined reveal specific data compromised time disclosure early March , citing investigation — still ongoing . Air India said first notified cyberattack SITA February 25 , nature data provided March 25 April 5 . The struggling Indian airline , surviving taxpayer money , claimed investigated security incident , secured compromised servers , engaged unnamed external specialists , notified credit card issuers , reset passwords frequent flyer program . Air India latest Indian firm disclose data breach recent quarters . Payments giant MobiKwik said late March investigating claims data breach allegedly exposed private information nearly 100 million users . Alleged records nearly 20 million BigBasket ( top grocery delivery startup India owned local conglomerate Tata ) customers leaked dark web anyone download late April . A security lapse Indian telecom giant Jio Platforms exposed results users used tool check coronavirus symptoms . Indian state West Bengal giant blood test firm Dr Lal PathLabs suffered similar breaches . Air India ’ peer , Spicejet , also confirmed data breach last year . Enterprise security attackers one password away worst day'"
            ]
          },
          "metadata": {
            "tags": []
          },
          "execution_count": 17
        }
      ]
    },
    {
      "cell_type": "code",
      "metadata": {
        "id": "XGjJUQBuItlW"
      },
      "source": [
        "data['parsed_content'] = data['parsed_content'].apply(lambda x: x.lower())\n",
        "data['parsed_content'] = data['parsed_content'].apply((lambda x: re.sub('[^a-zA-z0-9\\s]','',x)))\n",
        "\n",
        "\n",
        "max_fatures = 25000\n",
        "tokenizer = Tokenizer(num_words=max_fatures, split=' ')\n",
        "tokenizer.fit_on_texts(data['parsed_content'].values)\n",
        "X = tokenizer.texts_to_sequences(data['parsed_content'].values)\n",
        "X = pad_sequences(X)"
      ],
      "execution_count": 18,
      "outputs": []
    },
    {
      "cell_type": "code",
      "metadata": {
        "colab": {
          "base_uri": "https://localhost:8080/",
          "height": 417
        },
        "id": "KxDOUkApaahS",
        "outputId": "e8b34f9b-3228-41bb-89b1-fdca87f0dc7a"
      },
      "source": [
        "data=data.drop([\"sentiment_true_label_str\"],axis=1)\n",
        "data"
      ],
      "execution_count": 19,
      "outputs": [
        {
          "output_type": "execute_result",
          "data": {
            "text/html": [
              "<div>\n",
              "<style scoped>\n",
              "    .dataframe tbody tr th:only-of-type {\n",
              "        vertical-align: middle;\n",
              "    }\n",
              "\n",
              "    .dataframe tbody tr th {\n",
              "        vertical-align: top;\n",
              "    }\n",
              "\n",
              "    .dataframe thead th {\n",
              "        text-align: right;\n",
              "    }\n",
              "</style>\n",
              "<table border=\"1\" class=\"dataframe\">\n",
              "  <thead>\n",
              "    <tr style=\"text-align: right;\">\n",
              "      <th></th>\n",
              "      <th>title</th>\n",
              "      <th>parsed_content</th>\n",
              "      <th>sentiment_true_label</th>\n",
              "    </tr>\n",
              "  </thead>\n",
              "  <tbody>\n",
              "    <tr>\n",
              "      <th>0</th>\n",
              "      <td>Air India passenger data breach reveals SITA ...</td>\n",
              "      <td>three months air transport data giant sita re...</td>\n",
              "      <td>1</td>\n",
              "    </tr>\n",
              "    <tr>\n",
              "      <th>1</th>\n",
              "      <td>India 's Bharti Airtel swings quarterly profi...</td>\n",
              "      <td>a man wearing protective face shield cleans b...</td>\n",
              "      <td>1</td>\n",
              "    </tr>\n",
              "    <tr>\n",
              "      <th>2</th>\n",
              "      <td>India private equity investments hit record h...</td>\n",
              "      <td>a broker reacts trading computer terminal sto...</td>\n",
              "      <td>2</td>\n",
              "    </tr>\n",
              "    <tr>\n",
              "      <th>3</th>\n",
              "      <td>Analysis : Frequent run-ins India gov't cloud...</td>\n",
              "      <td>3d printed facebook twitter logos placed comp...</td>\n",
              "      <td>1</td>\n",
              "    </tr>\n",
              "    <tr>\n",
              "      <th>4</th>\n",
              "      <td>[ Update : June 05 ] Apple iOS 14/iPadOS 14 u...</td>\n",
              "      <td>new updates added bottom story original story...</td>\n",
              "      <td>1</td>\n",
              "    </tr>\n",
              "    <tr>\n",
              "      <th>...</th>\n",
              "      <td>...</td>\n",
              "      <td>...</td>\n",
              "      <td>...</td>\n",
              "    </tr>\n",
              "    <tr>\n",
              "      <th>759</th>\n",
              "      <td>Bollywood actress files plea 5G implementatio...</td>\n",
              "      <td>juhi chawla gripped  well  darr  one popular ...</td>\n",
              "      <td>1</td>\n",
              "    </tr>\n",
              "    <tr>\n",
              "      <th>760</th>\n",
              "      <td>What ’ with… Amazon &amp; MGM , French media gian...</td>\n",
              "      <td>may 18  2021 the speculation linking amazon m...</td>\n",
              "      <td>1</td>\n",
              "    </tr>\n",
              "    <tr>\n",
              "      <th>761</th>\n",
              "      <td>Reliance AGM next week : From 5G launch , Jio...</td>\n",
              "      <td>jump navigation speak now we week away 44th r...</td>\n",
              "      <td>1</td>\n",
              "    </tr>\n",
              "    <tr>\n",
              "      <th>762</th>\n",
              "      <td>Airtel 5G network trial goes live Gurgaon , s...</td>\n",
              "      <td>the trial delivered peak speed 1gbps  accordi...</td>\n",
              "      <td>1</td>\n",
              "    </tr>\n",
              "    <tr>\n",
              "      <th>763</th>\n",
              "      <td>Itel A23 Pro Debuts Price Rs . 3,899 With Jio...</td>\n",
              "      <td>itel a23 pro entrylevel smartphone itel a23 p...</td>\n",
              "      <td>1</td>\n",
              "    </tr>\n",
              "  </tbody>\n",
              "</table>\n",
              "<p>764 rows × 3 columns</p>\n",
              "</div>"
            ],
            "text/plain": [
              "                                                 title  ... sentiment_true_label\n",
              "0     Air India passenger data breach reveals SITA ...  ...                    1\n",
              "1     India 's Bharti Airtel swings quarterly profi...  ...                    1\n",
              "2     India private equity investments hit record h...  ...                    2\n",
              "3     Analysis : Frequent run-ins India gov't cloud...  ...                    1\n",
              "4     [ Update : June 05 ] Apple iOS 14/iPadOS 14 u...  ...                    1\n",
              "..                                                 ...  ...                  ...\n",
              "759   Bollywood actress files plea 5G implementatio...  ...                    1\n",
              "760   What ’ with… Amazon & MGM , French media gian...  ...                    1\n",
              "761   Reliance AGM next week : From 5G launch , Jio...  ...                    1\n",
              "762   Airtel 5G network trial goes live Gurgaon , s...  ...                    1\n",
              "763   Itel A23 Pro Debuts Price Rs . 3,899 With Jio...  ...                    1\n",
              "\n",
              "[764 rows x 3 columns]"
            ]
          },
          "metadata": {
            "tags": []
          },
          "execution_count": 19
        }
      ]
    },
    {
      "cell_type": "code",
      "metadata": {
        "colab": {
          "base_uri": "https://localhost:8080/"
        },
        "id": "jmpbQrRbItlY",
        "outputId": "eedbca3c-4bca-49d1-f372-62be21a0e17b"
      },
      "source": [
        "embed_dim = 128  \n",
        "lstm_out = 196\n",
        "model = Sequential()\n",
        "model.add(Embedding(max_fatures, embed_dim,input_length = X.shape[1]))\n",
        "model.add(SpatialDropout1D(0.4))\n",
        "model.add(LSTM(lstm_out, dropout=0.2, recurrent_dropout=0.2))\n",
        "model.add(Dense(3,activation='sigmoid'))\n",
        "model.compile(loss = 'categorical_crossentropy', optimizer='adam',metrics = ['accuracy'])\n",
        "print(model.summary())"
      ],
      "execution_count": 20,
      "outputs": [
        {
          "output_type": "stream",
          "text": [
            "Model: \"sequential\"\n",
            "_________________________________________________________________\n",
            "Layer (type)                 Output Shape              Param #   \n",
            "=================================================================\n",
            "embedding (Embedding)        (None, 3333, 128)         3200000   \n",
            "_________________________________________________________________\n",
            "spatial_dropout1d (SpatialDr (None, 3333, 128)         0         \n",
            "_________________________________________________________________\n",
            "lstm (LSTM)                  (None, 196)               254800    \n",
            "_________________________________________________________________\n",
            "dense (Dense)                (None, 3)                 591       \n",
            "=================================================================\n",
            "Total params: 3,455,391\n",
            "Trainable params: 3,455,391\n",
            "Non-trainable params: 0\n",
            "_________________________________________________________________\n",
            "None\n"
          ],
          "name": "stdout"
        }
      ]
    },
    {
      "cell_type": "code",
      "metadata": {
        "id": "Lzb4_0i4Itlb"
      },
      "source": [
        "Y = pd.get_dummies(data['sentiment_true_label']).values\n",
        "X_train, X_test, Y_train, Y_test = train_test_split(X,Y, test_size = 0.2)"
      ],
      "execution_count": 21,
      "outputs": []
    },
    {
      "cell_type": "code",
      "metadata": {
        "colab": {
          "base_uri": "https://localhost:8080/"
        },
        "id": "WtZu6K-CItlc",
        "outputId": "233bd752-82a0-45ab-d577-0b0ee3dcb761"
      },
      "source": [
        "batch_size = 64\n",
        "model.fit(X_train, Y_train, epochs = 5, batch_size=batch_size, verbose = 2)"
      ],
      "execution_count": 22,
      "outputs": [
        {
          "output_type": "stream",
          "text": [
            "Epoch 1/5\n",
            "10/10 - 270s - loss: 0.8553 - accuracy: 0.8036\n",
            "Epoch 2/5\n",
            "10/10 - 239s - loss: 0.4275 - accuracy: 0.8805\n",
            "Epoch 3/5\n",
            "10/10 - 244s - loss: 0.4190 - accuracy: 0.8805\n",
            "Epoch 4/5\n",
            "10/10 - 242s - loss: 0.4027 - accuracy: 0.8789\n",
            "Epoch 5/5\n",
            "10/10 - 242s - loss: 0.3671 - accuracy: 0.8805\n"
          ],
          "name": "stdout"
        },
        {
          "output_type": "execute_result",
          "data": {
            "text/plain": [
              "<keras.callbacks.History at 0x7fd7a3dca510>"
            ]
          },
          "metadata": {
            "tags": []
          },
          "execution_count": 22
        }
      ]
    },
    {
      "cell_type": "markdown",
      "metadata": {
        "id": "C9s5cEtuItld"
      },
      "source": [
        "Extracting a validation set, and measuring score and accuracy."
      ]
    },
    {
      "cell_type": "markdown",
      "metadata": {
        "id": "uchLc0SBexNy"
      },
      "source": [
        "## Finding accuracy of the model using metrics\n"
      ]
    },
    {
      "cell_type": "code",
      "metadata": {
        "id": "awcHHee8Itlg",
        "colab": {
          "base_uri": "https://localhost:8080/"
        },
        "outputId": "b65389bd-959f-473c-f85a-dd81bb09a544"
      },
      "source": [
        "pred1=model.predict(X_test)\n",
        "pred2=list()\n",
        "for i in pred1:\n",
        " pred2.append(np.argmax(i))\n",
        "pred2=np.array(pred2)\n",
        "pred2  # prediction numpy array\n",
        "# pred1_news=model.predict(x_test_headline)\n",
        "# pred1_news"
      ],
      "execution_count": 23,
      "outputs": [
        {
          "output_type": "execute_result",
          "data": {
            "text/plain": [
              "array([1, 1, 1, 1, 1, 1, 1, 1, 1, 1, 1, 1, 1, 1, 1, 1, 1, 1, 1, 1, 1, 1,\n",
              "       1, 1, 1, 1, 1, 1, 1, 1, 1, 1, 1, 1, 1, 1, 1, 1, 1, 1, 1, 1, 1, 1,\n",
              "       1, 1, 1, 1, 1, 1, 1, 1, 1, 1, 1, 1, 1, 1, 1, 1, 1, 1, 1, 1, 1, 1,\n",
              "       1, 1, 1, 1, 1, 1, 1, 1, 1, 1, 1, 1, 1, 1, 1, 1, 1, 1, 1, 1, 1, 1,\n",
              "       1, 1, 1, 1, 1, 1, 1, 1, 1, 1, 1, 1, 1, 1, 1, 1, 1, 1, 1, 1, 1, 1,\n",
              "       1, 1, 1, 1, 1, 1, 1, 1, 1, 1, 1, 1, 1, 1, 1, 1, 1, 1, 1, 1, 1, 1,\n",
              "       1, 1, 1, 1, 1, 1, 1, 1, 1, 1, 1, 1, 1, 1, 1, 1, 1, 1, 1, 1, 1])"
            ]
          },
          "metadata": {
            "tags": []
          },
          "execution_count": 23
        }
      ]
    },
    {
      "cell_type": "markdown",
      "metadata": {
        "id": "MK4LJ4XxyzOe"
      },
      "source": [
        "### it gave all 1 (neutral sentiment) because our training data has 94% (approx ) neutral which made our model highly biased towards neutral. Also training dataset was also very small"
      ]
    },
    {
      "cell_type": "markdown",
      "metadata": {
        "id": "ZHTWM3InzUVH"
      },
      "source": [
        "Converting y_test to again its label for finding accuracy"
      ]
    },
    {
      "cell_type": "code",
      "metadata": {
        "id": "X4Viw8f41Ff8",
        "colab": {
          "base_uri": "https://localhost:8080/"
        },
        "outputId": "eff04bf2-0a78-4c05-c98c-68184fc0edfe"
      },
      "source": [
        "Y_test1=[]\n",
        "for i in Y_test:\n",
        "  if np.argmax(i)==0:\n",
        "    Y_test1.append(0)\n",
        "  elif np.argmax(i)==1:\n",
        "    Y_test1.append(1)\n",
        "  else :\n",
        "    Y_test1.append(2)\n",
        "Y_test1=np.array(Y_test1)\n",
        "Y_test1 "
      ],
      "execution_count": 24,
      "outputs": [
        {
          "output_type": "execute_result",
          "data": {
            "text/plain": [
              "array([1, 1, 1, 1, 1, 1, 1, 1, 1, 2, 2, 1, 1, 2, 1, 1, 1, 1, 2, 1, 1, 1,\n",
              "       1, 1, 1, 1, 1, 1, 2, 1, 1, 1, 1, 1, 1, 1, 1, 1, 1, 1, 1, 1, 1, 1,\n",
              "       1, 1, 1, 1, 1, 1, 1, 1, 1, 1, 1, 1, 1, 1, 1, 1, 1, 1, 1, 1, 1, 1,\n",
              "       1, 2, 1, 1, 1, 1, 1, 1, 1, 1, 1, 1, 1, 1, 1, 1, 1, 1, 1, 1, 1, 1,\n",
              "       1, 1, 1, 1, 1, 1, 1, 1, 1, 1, 1, 1, 1, 1, 1, 1, 1, 1, 1, 1, 1, 1,\n",
              "       1, 1, 1, 1, 1, 1, 1, 1, 2, 2, 1, 1, 1, 1, 1, 1, 1, 1, 1, 0, 1, 1,\n",
              "       1, 1, 1, 1, 1, 1, 1, 1, 1, 1, 1, 1, 1, 1, 1, 1, 1, 1, 1, 1, 1])"
            ]
          },
          "metadata": {
            "tags": []
          },
          "execution_count": 24
        }
      ]
    },
    {
      "cell_type": "code",
      "metadata": {
        "colab": {
          "base_uri": "https://localhost:8080/"
        },
        "id": "8R7QfAsa3xmp",
        "outputId": "f9d3d7d0-6bd3-408a-8d45-22936e962c32"
      },
      "source": [
        "from sklearn.metrics import f1_score\n",
        "f1=f1_score(Y_test1,pred2,average='weighted')\n",
        "f1"
      ],
      "execution_count": 25,
      "outputs": [
        {
          "output_type": "execute_result",
          "data": {
            "text/plain": [
              "0.9126559714795008"
            ]
          },
          "metadata": {
            "tags": []
          },
          "execution_count": 25
        }
      ]
    },
    {
      "cell_type": "markdown",
      "metadata": {
        "id": "dPFZ40kZ88kV"
      },
      "source": [
        "## Prediction another data"
      ]
    },
    {
      "cell_type": "code",
      "metadata": {
        "id": "KCpXacJp81LN"
      },
      "source": [
        "data_test = pd.read_csv(\"/content/gdrive/My Drive/jio_data/JioMeetSentiments.csv\")"
      ],
      "execution_count": 63,
      "outputs": []
    },
    {
      "cell_type": "code",
      "metadata": {
        "colab": {
          "base_uri": "https://localhost:8080/",
          "height": 417
        },
        "id": "gP-EY0gV9x-5",
        "outputId": "f607c430-cf87-4bbf-d4d7-d278e653d559"
      },
      "source": [
        "data_test=data_test[[\"sentimenttype\",\"simplifiedtext\"]]\n",
        "data_test"
      ],
      "execution_count": 64,
      "outputs": [
        {
          "output_type": "execute_result",
          "data": {
            "text/html": [
              "<div>\n",
              "<style scoped>\n",
              "    .dataframe tbody tr th:only-of-type {\n",
              "        vertical-align: middle;\n",
              "    }\n",
              "\n",
              "    .dataframe tbody tr th {\n",
              "        vertical-align: top;\n",
              "    }\n",
              "\n",
              "    .dataframe thead th {\n",
              "        text-align: right;\n",
              "    }\n",
              "</style>\n",
              "<table border=\"1\" class=\"dataframe\">\n",
              "  <thead>\n",
              "    <tr style=\"text-align: right;\">\n",
              "      <th></th>\n",
              "      <th>sentimenttype</th>\n",
              "      <th>simplifiedtext</th>\n",
              "    </tr>\n",
              "  </thead>\n",
              "  <tbody>\n",
              "    <tr>\n",
              "      <th>0</th>\n",
              "      <td>2</td>\n",
              "      <td>SUPER APP</td>\n",
              "    </tr>\n",
              "    <tr>\n",
              "      <th>1</th>\n",
              "      <td>1</td>\n",
              "      <td>PL ALLOW REGULAR MEETINGS WITH SAME LINK AND ...</td>\n",
              "    </tr>\n",
              "    <tr>\n",
              "      <th>2</th>\n",
              "      <td>0</td>\n",
              "      <td>PROVIDE WHITE BOARD</td>\n",
              "    </tr>\n",
              "    <tr>\n",
              "      <th>3</th>\n",
              "      <td>2</td>\n",
              "      <td>THIS IS AN BEST APP I LIKE IT</td>\n",
              "    </tr>\n",
              "    <tr>\n",
              "      <th>4</th>\n",
              "      <td>2</td>\n",
              "      <td>EASY TO USE AND VERY SMART APP</td>\n",
              "    </tr>\n",
              "    <tr>\n",
              "      <th>...</th>\n",
              "      <td>...</td>\n",
              "      <td>...</td>\n",
              "    </tr>\n",
              "    <tr>\n",
              "      <th>23722</th>\n",
              "      <td>2</td>\n",
              "      <td>MERA JIO MEET ON KU NHI HO RHA</td>\n",
              "    </tr>\n",
              "    <tr>\n",
              "      <th>23723</th>\n",
              "      <td>2</td>\n",
              "      <td>AWESOME JUST LOVE IT  WAY BETTER THAN OTHER E...</td>\n",
              "    </tr>\n",
              "    <tr>\n",
              "      <th>23724</th>\n",
              "      <td>0</td>\n",
              "      <td>NO S� PUEDE  CAMBIAR EL IDIOMA A ESPA�OL</td>\n",
              "    </tr>\n",
              "    <tr>\n",
              "      <th>23725</th>\n",
              "      <td>0</td>\n",
              "      <td>IT S TOO GOOD BUT I REQUEST YOU TO MAKE UPTIL...</td>\n",
              "    </tr>\n",
              "    <tr>\n",
              "      <th>23726</th>\n",
              "      <td>0</td>\n",
              "      <td>VERY GOOD</td>\n",
              "    </tr>\n",
              "  </tbody>\n",
              "</table>\n",
              "<p>23727 rows × 2 columns</p>\n",
              "</div>"
            ],
            "text/plain": [
              "       sentimenttype                                     simplifiedtext\n",
              "0                  2                                         SUPER APP \n",
              "1                  1   PL ALLOW REGULAR MEETINGS WITH SAME LINK AND ...\n",
              "2                  0                               PROVIDE WHITE BOARD \n",
              "3                  2                     THIS IS AN BEST APP I LIKE IT \n",
              "4                  2                    EASY TO USE AND VERY SMART APP \n",
              "...              ...                                                ...\n",
              "23722              2                    MERA JIO MEET ON KU NHI HO RHA \n",
              "23723              2   AWESOME JUST LOVE IT  WAY BETTER THAN OTHER E...\n",
              "23724              0          NO S� PUEDE  CAMBIAR EL IDIOMA A ESPA�OL \n",
              "23725              0   IT S TOO GOOD BUT I REQUEST YOU TO MAKE UPTIL...\n",
              "23726              0                                         VERY GOOD \n",
              "\n",
              "[23727 rows x 2 columns]"
            ]
          },
          "metadata": {
            "tags": []
          },
          "execution_count": 64
        }
      ]
    },
    {
      "cell_type": "code",
      "metadata": {
        "id": "fzQrBsSg_fdO"
      },
      "source": [
        "data_test['simplifiedtext']= data_test['simplifiedtext'].astype(\"str\")\n",
        "data_test['sentimenttype']=data_test['sentimenttype'].fillna(1)\n",
        "data_test['sentimenttype']=data_test['sentimenttype'].astype(\"int\")"
      ],
      "execution_count": 65,
      "outputs": []
    },
    {
      "cell_type": "code",
      "metadata": {
        "colab": {
          "base_uri": "https://localhost:8080/"
        },
        "id": "hLd2_Z3b_fah",
        "outputId": "bce341f2-81f7-4d6a-f710-f4cf2714ab52"
      },
      "source": [
        "remove_stopwods(data_test,\"simplifiedtext\")"
      ],
      "execution_count": 66,
      "outputs": [
        {
          "output_type": "stream",
          "text": [
            "/usr/local/lib/python3.7/dist-packages/ipykernel_launcher.py:6: SettingWithCopyWarning: \n",
            "A value is trying to be set on a copy of a slice from a DataFrame\n",
            "\n",
            "See the caveats in the documentation: https://pandas.pydata.org/pandas-docs/stable/user_guide/indexing.html#returning-a-view-versus-a-copy\n",
            "  \n"
          ],
          "name": "stderr"
        }
      ]
    },
    {
      "cell_type": "code",
      "metadata": {
        "colab": {
          "base_uri": "https://localhost:8080/"
        },
        "id": "DP9X_qoN_fXx",
        "outputId": "8dc0f3c2-7b2e-4ace-edf2-5fc2a90da38b"
      },
      "source": [
        "k=0\n",
        "while(k<len(data_test['simplifiedtext'])):\n",
        "  data_test['simplifiedtext'][k]= convertList(data_test['simplifiedtext'][k])\n",
        "  k=k+1"
      ],
      "execution_count": 67,
      "outputs": [
        {
          "output_type": "stream",
          "text": [
            "/usr/local/lib/python3.7/dist-packages/ipykernel_launcher.py:3: SettingWithCopyWarning: \n",
            "A value is trying to be set on a copy of a slice from a DataFrame\n",
            "\n",
            "See the caveats in the documentation: https://pandas.pydata.org/pandas-docs/stable/user_guide/indexing.html#returning-a-view-versus-a-copy\n",
            "  This is separate from the ipykernel package so we can avoid doing imports until\n"
          ],
          "name": "stderr"
        }
      ]
    },
    {
      "cell_type": "code",
      "metadata": {
        "id": "LEM9j49B_fVN"
      },
      "source": [
        "data_test['simplifiedtext'] = data_test['simplifiedtext'].apply(lambda x: x.lower())\n",
        "data_test['simplifiedtext'] = data_test['simplifiedtext'].apply((lambda x: re.sub('[^a-zA-z0-9\\s]','',x)))"
      ],
      "execution_count": 68,
      "outputs": []
    },
    {
      "cell_type": "code",
      "metadata": {
        "id": "wY0KZGOn8vvY"
      },
      "source": [
        "max_fatures = 250000\n",
        "tokenizer = Tokenizer(num_words=max_fatures, split=' ')\n",
        "tokenizer.fit_on_texts(data_test['simplifiedtext'].values)\n",
        "X_testdata = tokenizer.texts_to_sequences(data_test['simplifiedtext'].values)\n",
        "X_testdata = pad_sequences(X_testdata)"
      ],
      "execution_count": 69,
      "outputs": []
    },
    {
      "cell_type": "code",
      "metadata": {
        "colab": {
          "base_uri": "https://localhost:8080/"
        },
        "id": "Wr_6xkv18vsP",
        "outputId": "5cba3fce-f14d-4f6b-b699-dc4c47041f1f"
      },
      "source": [
        "pred_test=model.predict(X_testdata)\n",
        "pred_testf=list()\n",
        "for i in pred_test:\n",
        " pred_testf.append(np.argmax(i))\n",
        "pred_testf=np.array(pred_testf)\n",
        "pred_testf"
      ],
      "execution_count": 70,
      "outputs": [
        {
          "output_type": "stream",
          "text": [
            "WARNING:tensorflow:Model was constructed with shape (None, 3333) for input KerasTensor(type_spec=TensorSpec(shape=(None, 3333), dtype=tf.float32, name='embedding_input'), name='embedding_input', description=\"created by layer 'embedding_input'\"), but it was called on an input with incompatible shape (None, 111).\n"
          ],
          "name": "stdout"
        },
        {
          "output_type": "execute_result",
          "data": {
            "text/plain": [
              "array([1, 1, 1, ..., 1, 1, 1])"
            ]
          },
          "metadata": {
            "tags": []
          },
          "execution_count": 70
        }
      ]
    },
    {
      "cell_type": "code",
      "metadata": {
        "colab": {
          "base_uri": "https://localhost:8080/"
        },
        "id": "GQZl5Chz8vpd",
        "outputId": "73ba6667-1380-4334-b39e-c3b61394dd21"
      },
      "source": [
        "np.unique(pred_testf)"
      ],
      "execution_count": 71,
      "outputs": [
        {
          "output_type": "execute_result",
          "data": {
            "text/plain": [
              "array([1])"
            ]
          },
          "metadata": {
            "tags": []
          },
          "execution_count": 71
        }
      ]
    },
    {
      "cell_type": "code",
      "metadata": {
        "colab": {
          "base_uri": "https://localhost:8080/"
        },
        "id": "igoR37FNBtEu",
        "outputId": "dd652901-46bc-47ff-a42d-b948ee9b5daa"
      },
      "source": [
        "np.sort(pred_testf)"
      ],
      "execution_count": 72,
      "outputs": [
        {
          "output_type": "execute_result",
          "data": {
            "text/plain": [
              "array([1, 1, 1, ..., 1, 1, 1])"
            ]
          },
          "metadata": {
            "tags": []
          },
          "execution_count": 72
        }
      ]
    },
    {
      "cell_type": "code",
      "metadata": {
        "colab": {
          "base_uri": "https://localhost:8080/"
        },
        "id": "lfnNLpk9BxT5",
        "outputId": "ac545f5e-24c7-43d6-97d9-130aeef7b2fb"
      },
      "source": [
        "np.count_nonzero(pred_testf)"
      ],
      "execution_count": 73,
      "outputs": [
        {
          "output_type": "execute_result",
          "data": {
            "text/plain": [
              "23727"
            ]
          },
          "metadata": {
            "tags": []
          },
          "execution_count": 73
        }
      ]
    },
    {
      "cell_type": "code",
      "metadata": {
        "id": "IpA-ztjzCr-T"
      },
      "source": [
        ""
      ],
      "execution_count": null,
      "outputs": []
    }
  ]
}