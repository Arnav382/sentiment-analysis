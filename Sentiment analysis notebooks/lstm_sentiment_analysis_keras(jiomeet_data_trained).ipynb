{
  "nbformat": 4,
  "nbformat_minor": 0,
  "metadata": {
    "_change_revision": 0,
    "_is_fork": false,
    "accelerator": "TPU",
    "colab": {
      "name": "lstm_sentiment_analysis_keras(jiomeet data trained).ipynb",
      "provenance": [],
      "collapsed_sections": []
    },
    "kernelspec": {
      "display_name": "Python 3",
      "language": "python",
      "name": "python3"
    },
    "language_info": {
      "codemirror_mode": {
        "name": "ipython",
        "version": 3
      },
      "file_extension": ".py",
      "mimetype": "text/x-python",
      "name": "python",
      "nbconvert_exporter": "python",
      "pygments_lexer": "ipython3",
      "version": "3.8.5"
    }
  },
  "cells": [
    {
      "cell_type": "code",
      "metadata": {
        "id": "Ju12aYMgItlT"
      },
      "source": [
        "import numpy as np\n",
        "import pandas as pd \n",
        "import tensorflow as tf\n",
        "\n",
        "from sklearn.feature_extraction.text import CountVectorizer\n",
        "from keras.preprocessing.text import Tokenizer\n",
        "from keras.preprocessing.sequence import pad_sequences\n",
        "from keras.models import Sequential\n",
        "from keras.layers import Dense, Embedding, LSTM, SpatialDropout1D\n",
        "from sklearn.model_selection import train_test_split\n",
        "from keras.utils.np_utils import to_categorical\n",
        "import re"
      ],
      "execution_count": 1,
      "outputs": []
    },
    {
      "cell_type": "code",
      "metadata": {
        "id": "uOkgxZt-oNSX"
      },
      "source": [
        "import re\n",
        "import nltk\n",
        "import string\n",
        "from nltk.corpus import stopwords\n",
        "from nltk.tokenize import word_tokenize\n",
        "from nltk.stem import PorterStemmer, WordNetLemmatizer\n",
        "from sklearn.feature_extraction.text import TfidfVectorizer\n",
        "from sklearn.model_selection import train_test_split"
      ],
      "execution_count": 2,
      "outputs": []
    },
    {
      "cell_type": "code",
      "metadata": {
        "colab": {
          "base_uri": "https://localhost:8080/"
        },
        "id": "0rD5riyspDey",
        "outputId": "5128becf-31b1-409c-cc96-a9fe5317dc79"
      },
      "source": [
        "nltk.download(\"stopwords\")\n",
        "nltk.download('punkt')\n",
        "stop_words= set(stopwords.words(\"english\"))"
      ],
      "execution_count": 3,
      "outputs": [
        {
          "output_type": "stream",
          "text": [
            "[nltk_data] Downloading package stopwords to /root/nltk_data...\n",
            "[nltk_data]   Unzipping corpora/stopwords.zip.\n",
            "[nltk_data] Downloading package punkt to /root/nltk_data...\n",
            "[nltk_data]   Unzipping tokenizers/punkt.zip.\n"
          ],
          "name": "stdout"
        }
      ]
    },
    {
      "cell_type": "markdown",
      "metadata": {
        "id": "Dc9FQ9Kyu87P"
      },
      "source": [
        "function to remove stopwords"
      ]
    },
    {
      "cell_type": "code",
      "metadata": {
        "id": "eE-5ASMEoOJQ"
      },
      "source": [
        "def remove_stopwods(df,label):\n",
        "  j=0\n",
        "  for i in df[label]:\n",
        "    text_tokens=word_tokenize(i)\n",
        "    filtered_words=[word for word in text_tokens if word not in stop_words]\n",
        "    df[label][j]=filtered_words\n",
        "    j=j+1"
      ],
      "execution_count": 4,
      "outputs": []
    },
    {
      "cell_type": "markdown",
      "metadata": {
        "id": "WMaLKqLxu_R9"
      },
      "source": [
        "Importing DataSet of news"
      ]
    },
    {
      "cell_type": "code",
      "metadata": {
        "id": "WDx8u8RKI7uC"
      },
      "source": [
        "  # #Arnav Directory\n",
        "  # from google.colab import drive \n",
        "  # drive.mount(\"/content/gdrive\")\n",
        "  # data = pd.read_csv(\"/content/gdrive/My Drive/JioMeetSentiments-2.csv\")\n",
        "  # test_data=pd.read_csv(\"/content/gdrive/My Drive/NewsData.csv\")"
      ],
      "execution_count": 5,
      "outputs": []
    },
    {
      "cell_type": "code",
      "metadata": {
        "id": "c1tqPP0bAXgH",
        "colab": {
          "base_uri": "https://localhost:8080/"
        },
        "outputId": "c39100c0-d7b5-412e-d6e9-2c019c7672ec"
      },
      "source": [
        " # ## rajat directory\n",
        "from google.colab import drive \n",
        "drive.mount(\"/content/gdrive\")"
      ],
      "execution_count": 6,
      "outputs": [
        {
          "output_type": "stream",
          "text": [
            "Mounted at /content/gdrive\n"
          ],
          "name": "stdout"
        }
      ]
    },
    {
      "cell_type": "code",
      "metadata": {
        "id": "KCpXacJp81LN"
      },
      "source": [
        "data = pd.read_csv(\"/content/gdrive/My Drive/jio_data/JioMeetSentiments.csv\")"
      ],
      "execution_count": 7,
      "outputs": []
    },
    {
      "cell_type": "code",
      "metadata": {
        "colab": {
          "base_uri": "https://localhost:8080/",
          "height": 417
        },
        "id": "gP-EY0gV9x-5",
        "outputId": "4385e218-b3ae-4c20-99f1-5aaf38e85ddf"
      },
      "source": [
        "data=data[[\"sentimenttype\",\"simplifiedtext\"]]\n",
        "data"
      ],
      "execution_count": 8,
      "outputs": [
        {
          "output_type": "execute_result",
          "data": {
            "text/html": [
              "<div>\n",
              "<style scoped>\n",
              "    .dataframe tbody tr th:only-of-type {\n",
              "        vertical-align: middle;\n",
              "    }\n",
              "\n",
              "    .dataframe tbody tr th {\n",
              "        vertical-align: top;\n",
              "    }\n",
              "\n",
              "    .dataframe thead th {\n",
              "        text-align: right;\n",
              "    }\n",
              "</style>\n",
              "<table border=\"1\" class=\"dataframe\">\n",
              "  <thead>\n",
              "    <tr style=\"text-align: right;\">\n",
              "      <th></th>\n",
              "      <th>sentimenttype</th>\n",
              "      <th>simplifiedtext</th>\n",
              "    </tr>\n",
              "  </thead>\n",
              "  <tbody>\n",
              "    <tr>\n",
              "      <th>0</th>\n",
              "      <td>2</td>\n",
              "      <td>SUPER APP</td>\n",
              "    </tr>\n",
              "    <tr>\n",
              "      <th>1</th>\n",
              "      <td>1</td>\n",
              "      <td>PL ALLOW REGULAR MEETINGS WITH SAME LINK AND ...</td>\n",
              "    </tr>\n",
              "    <tr>\n",
              "      <th>2</th>\n",
              "      <td>0</td>\n",
              "      <td>PROVIDE WHITE BOARD</td>\n",
              "    </tr>\n",
              "    <tr>\n",
              "      <th>3</th>\n",
              "      <td>2</td>\n",
              "      <td>THIS IS AN BEST APP I LIKE IT</td>\n",
              "    </tr>\n",
              "    <tr>\n",
              "      <th>4</th>\n",
              "      <td>2</td>\n",
              "      <td>EASY TO USE AND VERY SMART APP</td>\n",
              "    </tr>\n",
              "    <tr>\n",
              "      <th>...</th>\n",
              "      <td>...</td>\n",
              "      <td>...</td>\n",
              "    </tr>\n",
              "    <tr>\n",
              "      <th>23722</th>\n",
              "      <td>2</td>\n",
              "      <td>MERA JIO MEET ON KU NHI HO RHA</td>\n",
              "    </tr>\n",
              "    <tr>\n",
              "      <th>23723</th>\n",
              "      <td>2</td>\n",
              "      <td>AWESOME JUST LOVE IT  WAY BETTER THAN OTHER E...</td>\n",
              "    </tr>\n",
              "    <tr>\n",
              "      <th>23724</th>\n",
              "      <td>0</td>\n",
              "      <td>NO S� PUEDE  CAMBIAR EL IDIOMA A ESPA�OL</td>\n",
              "    </tr>\n",
              "    <tr>\n",
              "      <th>23725</th>\n",
              "      <td>0</td>\n",
              "      <td>IT S TOO GOOD BUT I REQUEST YOU TO MAKE UPTIL...</td>\n",
              "    </tr>\n",
              "    <tr>\n",
              "      <th>23726</th>\n",
              "      <td>0</td>\n",
              "      <td>VERY GOOD</td>\n",
              "    </tr>\n",
              "  </tbody>\n",
              "</table>\n",
              "<p>23727 rows × 2 columns</p>\n",
              "</div>"
            ],
            "text/plain": [
              "       sentimenttype                                     simplifiedtext\n",
              "0                  2                                         SUPER APP \n",
              "1                  1   PL ALLOW REGULAR MEETINGS WITH SAME LINK AND ...\n",
              "2                  0                               PROVIDE WHITE BOARD \n",
              "3                  2                     THIS IS AN BEST APP I LIKE IT \n",
              "4                  2                    EASY TO USE AND VERY SMART APP \n",
              "...              ...                                                ...\n",
              "23722              2                    MERA JIO MEET ON KU NHI HO RHA \n",
              "23723              2   AWESOME JUST LOVE IT  WAY BETTER THAN OTHER E...\n",
              "23724              0          NO S� PUEDE  CAMBIAR EL IDIOMA A ESPA�OL \n",
              "23725              0   IT S TOO GOOD BUT I REQUEST YOU TO MAKE UPTIL...\n",
              "23726              0                                         VERY GOOD \n",
              "\n",
              "[23727 rows x 2 columns]"
            ]
          },
          "metadata": {
            "tags": []
          },
          "execution_count": 8
        }
      ]
    },
    {
      "cell_type": "code",
      "metadata": {
        "id": "tQv6nfbWBTpM"
      },
      "source": [
        "data['simplifiedtext']= data['simplifiedtext'].astype(\"str\")"
      ],
      "execution_count": 9,
      "outputs": []
    },
    {
      "cell_type": "code",
      "metadata": {
        "id": "Mif-j5SxDCNb"
      },
      "source": [
        "data['sentimenttype']=data['sentimenttype'].fillna(1)\n",
        "data['sentimenttype']=data['sentimenttype'].astype(\"int\")"
      ],
      "execution_count": 10,
      "outputs": []
    },
    {
      "cell_type": "code",
      "metadata": {
        "id": "ymA2ANjOdKTs",
        "colab": {
          "base_uri": "https://localhost:8080/"
        },
        "outputId": "cd19943d-e7d0-43a6-fa3e-0a77b197e8e7"
      },
      "source": [
        "remove_stopwods(data,\"simplifiedtext\")"
      ],
      "execution_count": 11,
      "outputs": [
        {
          "output_type": "stream",
          "text": [
            "/usr/local/lib/python3.7/dist-packages/ipykernel_launcher.py:6: SettingWithCopyWarning: \n",
            "A value is trying to be set on a copy of a slice from a DataFrame\n",
            "\n",
            "See the caveats in the documentation: https://pandas.pydata.org/pandas-docs/stable/user_guide/indexing.html#returning-a-view-versus-a-copy\n",
            "  \n"
          ],
          "name": "stderr"
        }
      ]
    },
    {
      "cell_type": "code",
      "metadata": {
        "colab": {
          "base_uri": "https://localhost:8080/",
          "height": 203
        },
        "id": "7XUuM1gi6uFX",
        "outputId": "dddb7b95-7630-48cf-f093-e5807425073b"
      },
      "source": [
        "data.head()"
      ],
      "execution_count": 12,
      "outputs": [
        {
          "output_type": "execute_result",
          "data": {
            "text/html": [
              "<div>\n",
              "<style scoped>\n",
              "    .dataframe tbody tr th:only-of-type {\n",
              "        vertical-align: middle;\n",
              "    }\n",
              "\n",
              "    .dataframe tbody tr th {\n",
              "        vertical-align: top;\n",
              "    }\n",
              "\n",
              "    .dataframe thead th {\n",
              "        text-align: right;\n",
              "    }\n",
              "</style>\n",
              "<table border=\"1\" class=\"dataframe\">\n",
              "  <thead>\n",
              "    <tr style=\"text-align: right;\">\n",
              "      <th></th>\n",
              "      <th>sentimenttype</th>\n",
              "      <th>simplifiedtext</th>\n",
              "    </tr>\n",
              "  </thead>\n",
              "  <tbody>\n",
              "    <tr>\n",
              "      <th>0</th>\n",
              "      <td>2</td>\n",
              "      <td>[SUPER, APP]</td>\n",
              "    </tr>\n",
              "    <tr>\n",
              "      <th>1</th>\n",
              "      <td>1</td>\n",
              "      <td>[PL, ALLOW, REGULAR, MEETINGS, WITH, SAME, LIN...</td>\n",
              "    </tr>\n",
              "    <tr>\n",
              "      <th>2</th>\n",
              "      <td>0</td>\n",
              "      <td>[PROVIDE, WHITE, BOARD]</td>\n",
              "    </tr>\n",
              "    <tr>\n",
              "      <th>3</th>\n",
              "      <td>2</td>\n",
              "      <td>[THIS, IS, AN, BEST, APP, I, LIKE, IT]</td>\n",
              "    </tr>\n",
              "    <tr>\n",
              "      <th>4</th>\n",
              "      <td>2</td>\n",
              "      <td>[EASY, TO, USE, AND, VERY, SMART, APP]</td>\n",
              "    </tr>\n",
              "  </tbody>\n",
              "</table>\n",
              "</div>"
            ],
            "text/plain": [
              "   sentimenttype                                     simplifiedtext\n",
              "0              2                                       [SUPER, APP]\n",
              "1              1  [PL, ALLOW, REGULAR, MEETINGS, WITH, SAME, LIN...\n",
              "2              0                            [PROVIDE, WHITE, BOARD]\n",
              "3              2             [THIS, IS, AN, BEST, APP, I, LIKE, IT]\n",
              "4              2             [EASY, TO, USE, AND, VERY, SMART, APP]"
            ]
          },
          "metadata": {
            "tags": []
          },
          "execution_count": 12
        }
      ]
    },
    {
      "cell_type": "code",
      "metadata": {
        "id": "CCLLmKjN66TB"
      },
      "source": [
        "def convertList(list1):  \n",
        "    str = ''  # initializing the empty string  \n",
        "    for i in list1: #Iterating and adding the list element to the str variable  \n",
        "      str =str+ \" \"+i\n",
        "    return str"
      ],
      "execution_count": 13,
      "outputs": []
    },
    {
      "cell_type": "code",
      "metadata": {
        "colab": {
          "base_uri": "https://localhost:8080/"
        },
        "id": "f9pSXFDYLW4o",
        "outputId": "0b1451fb-aa41-473a-f918-9634c1239d8b"
      },
      "source": [
        "k=0\n",
        "while(k<len(data['simplifiedtext'])):\n",
        "  data['simplifiedtext'][k]= convertList(data['simplifiedtext'][k])\n",
        "  k=k+1"
      ],
      "execution_count": 14,
      "outputs": [
        {
          "output_type": "stream",
          "text": [
            "/usr/local/lib/python3.7/dist-packages/ipykernel_launcher.py:3: SettingWithCopyWarning: \n",
            "A value is trying to be set on a copy of a slice from a DataFrame\n",
            "\n",
            "See the caveats in the documentation: https://pandas.pydata.org/pandas-docs/stable/user_guide/indexing.html#returning-a-view-versus-a-copy\n",
            "  This is separate from the ipykernel package so we can avoid doing imports until\n"
          ],
          "name": "stderr"
        }
      ]
    },
    {
      "cell_type": "code",
      "metadata": {
        "id": "XGjJUQBuItlW"
      },
      "source": [
        "data['simplifiedtext'] = data['simplifiedtext'].apply(lambda x: x.lower())\n",
        "data['simplifiedtext'] = data['simplifiedtext'].apply((lambda x: re.sub('[^a-zA-z0-9\\s]','',x)))\n",
        "\n",
        "\n",
        "max_fatures = 25000\n",
        "tokenizer = Tokenizer(num_words=max_fatures, split=' ') # giving unique id to each word\n",
        "tokenizer.fit_on_texts(data['simplifiedtext'].values)\n",
        "X = tokenizer.texts_to_sequences(data['simplifiedtext'].values)\n",
        "X = pad_sequences(X)"
      ],
      "execution_count": 15,
      "outputs": []
    },
    {
      "cell_type": "code",
      "metadata": {
        "colab": {
          "base_uri": "https://localhost:8080/"
        },
        "id": "jmpbQrRbItlY",
        "outputId": "53c52152-6130-439b-cdd9-609857ff3ff3"
      },
      "source": [
        "embed_dim = 128  \n",
        "lstm_out = 196\n",
        "model = Sequential()\n",
        "model.add(Embedding(max_fatures, embed_dim,input_length = X.shape[1]))\n",
        "model.add(SpatialDropout1D(0.4))\n",
        "model.add(LSTM(lstm_out, dropout=0.2, recurrent_dropout=0.2))\n",
        "model.add(Dense(3,activation='sigmoid'))\n",
        "model.compile(loss = 'categorical_crossentropy', optimizer='adam',metrics = ['accuracy'])\n",
        "print(model.summary())"
      ],
      "execution_count": 16,
      "outputs": [
        {
          "output_type": "stream",
          "text": [
            "Model: \"sequential\"\n",
            "_________________________________________________________________\n",
            "Layer (type)                 Output Shape              Param #   \n",
            "=================================================================\n",
            "embedding (Embedding)        (None, 111, 128)          3200000   \n",
            "_________________________________________________________________\n",
            "spatial_dropout1d (SpatialDr (None, 111, 128)          0         \n",
            "_________________________________________________________________\n",
            "lstm (LSTM)                  (None, 196)               254800    \n",
            "_________________________________________________________________\n",
            "dense (Dense)                (None, 3)                 591       \n",
            "=================================================================\n",
            "Total params: 3,455,391\n",
            "Trainable params: 3,455,391\n",
            "Non-trainable params: 0\n",
            "_________________________________________________________________\n",
            "None\n"
          ],
          "name": "stdout"
        }
      ]
    },
    {
      "cell_type": "code",
      "metadata": {
        "id": "Lzb4_0i4Itlb"
      },
      "source": [
        "Y = pd.get_dummies(data['sentimenttype']).values\n",
        "X_train, X_test, Y_train, Y_test = train_test_split(X,Y, test_size = 0.2)"
      ],
      "execution_count": 17,
      "outputs": []
    },
    {
      "cell_type": "code",
      "metadata": {
        "colab": {
          "base_uri": "https://localhost:8080/"
        },
        "id": "WtZu6K-CItlc",
        "outputId": "40371f4f-c376-4d26-bbb2-c2a5743c95a2"
      },
      "source": [
        "batch_size = 64\n",
        "model.fit(X_train, Y_train, epochs = 5, batch_size=batch_size, verbose = 2)"
      ],
      "execution_count": 18,
      "outputs": [
        {
          "output_type": "stream",
          "text": [
            "Epoch 1/5\n",
            "297/297 - 266s - loss: 0.4905 - accuracy: 0.8021\n",
            "Epoch 2/5\n",
            "297/297 - 237s - loss: 0.2730 - accuracy: 0.9027\n",
            "Epoch 3/5\n",
            "297/297 - 237s - loss: 0.2048 - accuracy: 0.9308\n",
            "Epoch 4/5\n",
            "297/297 - 236s - loss: 0.1603 - accuracy: 0.9463\n",
            "Epoch 5/5\n",
            "297/297 - 235s - loss: 0.1340 - accuracy: 0.9584\n"
          ],
          "name": "stdout"
        },
        {
          "output_type": "execute_result",
          "data": {
            "text/plain": [
              "<keras.callbacks.History at 0x7f3886157310>"
            ]
          },
          "metadata": {
            "tags": []
          },
          "execution_count": 18
        }
      ]
    },
    {
      "cell_type": "markdown",
      "metadata": {
        "id": "C9s5cEtuItld"
      },
      "source": [
        "Extracting a validation set, and measuring score and accuracy."
      ]
    },
    {
      "cell_type": "markdown",
      "metadata": {
        "id": "uchLc0SBexNy"
      },
      "source": [
        "## Finding accuracy of the model using metrics\n"
      ]
    },
    {
      "cell_type": "code",
      "metadata": {
        "id": "awcHHee8Itlg",
        "colab": {
          "base_uri": "https://localhost:8080/"
        },
        "outputId": "5614040e-a1c4-4528-c7a5-08102f6e0017"
      },
      "source": [
        "pred1=model.predict(X_test)\n",
        "pred2=list()\n",
        "for i in pred1:\n",
        " pred2.append(np.argmax(i))\n",
        "pred2=np.array(pred2)\n",
        "pred2 "
      ],
      "execution_count": 19,
      "outputs": [
        {
          "output_type": "execute_result",
          "data": {
            "text/plain": [
              "array([0, 0, 0, ..., 2, 1, 1])"
            ]
          },
          "metadata": {
            "tags": []
          },
          "execution_count": 19
        }
      ]
    },
    {
      "cell_type": "markdown",
      "metadata": {
        "id": "ZHTWM3InzUVH"
      },
      "source": [
        "Converting y_test to again its label for finding accuracy"
      ]
    },
    {
      "cell_type": "code",
      "metadata": {
        "id": "X4Viw8f41Ff8",
        "colab": {
          "base_uri": "https://localhost:8080/"
        },
        "outputId": "ac498ae8-715e-486b-ba88-9ec60f44dee2"
      },
      "source": [
        "Y_test1=[]\n",
        "for i in Y_test:\n",
        "  if np.argmax(i)==0:\n",
        "    Y_test1.append(0)\n",
        "  elif np.argmax(i)==1:\n",
        "    Y_test1.append(1)\n",
        "  else :\n",
        "    Y_test1.append(2)\n",
        "Y_test1=np.array(Y_test1)\n",
        "Y_test1 "
      ],
      "execution_count": 20,
      "outputs": [
        {
          "output_type": "execute_result",
          "data": {
            "text/plain": [
              "array([0, 0, 0, ..., 2, 1, 1])"
            ]
          },
          "metadata": {
            "tags": []
          },
          "execution_count": 20
        }
      ]
    },
    {
      "cell_type": "code",
      "metadata": {
        "colab": {
          "base_uri": "https://localhost:8080/"
        },
        "id": "wnCysinY6yHB",
        "outputId": "f104e195-047d-48e6-ff64-91d86ebd4059"
      },
      "source": [
        "from sklearn.metrics import f1_score\n",
        "f1=f1_score(Y_test1,pred2,average='weighted')\n",
        "f1"
      ],
      "execution_count": 21,
      "outputs": [
        {
          "output_type": "execute_result",
          "data": {
            "text/plain": [
              "0.9100907671724014"
            ]
          },
          "metadata": {
            "tags": []
          },
          "execution_count": 21
        }
      ]
    },
    {
      "cell_type": "code",
      "metadata": {
        "colab": {
          "base_uri": "https://localhost:8080/"
        },
        "id": "wA33tvD_KHEE",
        "outputId": "012710ee-1c2f-4744-dcb4-692e037cc2be"
      },
      "source": [
        "pred2[0:200]"
      ],
      "execution_count": 24,
      "outputs": [
        {
          "output_type": "execute_result",
          "data": {
            "text/plain": [
              "array([0, 0, 0, 1, 0, 2, 0, 2, 2, 0, 0, 2, 2, 0, 0, 0, 0, 2, 0, 0, 1, 2,\n",
              "       0, 1, 0, 0, 2, 0, 2, 2, 0, 0, 0, 1, 1, 1, 2, 1, 2, 0, 0, 1, 0, 0,\n",
              "       2, 0, 2, 0, 0, 0, 0, 0, 0, 2, 2, 0, 0, 0, 0, 0, 0, 0, 2, 0, 0, 2,\n",
              "       2, 0, 0, 0, 0, 2, 2, 0, 0, 0, 2, 2, 2, 2, 0, 2, 0, 0, 1, 0, 2, 0,\n",
              "       1, 2, 1, 0, 0, 0, 0, 0, 0, 0, 0, 0, 0, 0, 0, 2, 0, 0, 0, 0, 2, 2,\n",
              "       2, 2, 2, 0, 0, 2, 0, 1, 0, 0, 0, 2, 0, 0, 0, 0, 0, 0, 0, 0, 1, 2,\n",
              "       2, 0, 0, 2, 2, 0, 2, 0, 2, 1, 1, 1, 0, 2, 0, 2, 0, 2, 0, 2, 2, 1,\n",
              "       0, 0, 0, 0, 0, 0, 0, 0, 0, 0, 0, 0, 0, 0, 1, 1, 2, 0, 0, 0, 0, 0,\n",
              "       1, 0, 0, 0, 2, 2, 0, 0, 0, 2, 0, 0, 0, 0, 0, 0, 2, 0, 0, 0, 2, 2,\n",
              "       2, 0])"
            ]
          },
          "metadata": {
            "tags": []
          },
          "execution_count": 24
        }
      ]
    },
    {
      "cell_type": "code",
      "metadata": {
        "id": "rFk4BZloKJ4k"
      },
      "source": [
        ""
      ],
      "execution_count": null,
      "outputs": []
    }
  ]
}