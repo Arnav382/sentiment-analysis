{
  "nbformat": 4,
  "nbformat_minor": 0,
  "metadata": {
    "colab": {
      "name": "Named entity recognition_jio_news.ipynb",
      "provenance": [],
      "collapsed_sections": []
    },
    "kernelspec": {
      "name": "python3",
      "display_name": "Python 3"
    },
    "language_info": {
      "name": "python"
    }
  },
  "cells": [
    {
      "cell_type": "code",
      "metadata": {
        "id": "kNmh9zdGTV71"
      },
      "source": [
        "import pandas as pd"
      ],
      "execution_count": 2,
      "outputs": []
    },
    {
      "cell_type": "markdown",
      "metadata": {
        "id": "nCRQvbuZ0C3r"
      },
      "source": [
        "Importing data"
      ]
    },
    {
      "cell_type": "code",
      "metadata": {
        "id": "VcQutij_hCa5",
        "colab": {
          "base_uri": "https://localhost:8080/"
        },
        "outputId": "09dc29eb-968f-4f92-ff5e-15778cadf7ea"
      },
      "source": [
        " # ## rajat directory\n",
        "from google.colab import drive \n",
        "drive.mount(\"/content/gdrive\")"
      ],
      "execution_count": 3,
      "outputs": [
        {
          "output_type": "stream",
          "text": [
            "Mounted at /content/gdrive\n"
          ],
          "name": "stdout"
        }
      ]
    },
    {
      "cell_type": "code",
      "metadata": {
        "id": "8Vn1R7M0qori",
        "colab": {
          "base_uri": "https://localhost:8080/"
        },
        "outputId": "72153555-0923-4724-fc41-dd05127fa2c4"
      },
      "source": [
        "# ## arnav directory\n",
        "# from google.colab import drive \n",
        "# drive.mount(\"/content/gdrive\")\n",
        "# csv_file_name= \"actual_data.csv\"\n",
        "# data = pd.read_csv(\"/content/gdrive/My Drive/\"+csv_file_name)"
      ],
      "execution_count": null,
      "outputs": [
        {
          "output_type": "stream",
          "text": [
            "Mounted at /content/gdrive\n"
          ],
          "name": "stdout"
        }
      ]
    },
    {
      "cell_type": "code",
      "metadata": {
        "id": "3Y_ab5Rsoa6Y"
      },
      "source": [
        "csv_file_name= \"best_match_jionews1.csv\""
      ],
      "execution_count": 4,
      "outputs": []
    },
    {
      "cell_type": "code",
      "metadata": {
        "id": "qKTzv-W2mdSa"
      },
      "source": [
        "data = pd.read_csv(\"/content/gdrive/My Drive/jio_data/\"+csv_file_name)"
      ],
      "execution_count": 5,
      "outputs": []
    },
    {
      "cell_type": "code",
      "metadata": {
        "colab": {
          "base_uri": "https://localhost:8080/",
          "height": 203
        },
        "id": "4KsfJbbineGe",
        "outputId": "6cfa87e7-f3f8-487e-9d96-b93896f43fb4"
      },
      "source": [
        "data.head()"
      ],
      "execution_count": 6,
      "outputs": [
        {
          "output_type": "execute_result",
          "data": {
            "text/html": [
              "<div>\n",
              "<style scoped>\n",
              "    .dataframe tbody tr th:only-of-type {\n",
              "        vertical-align: middle;\n",
              "    }\n",
              "\n",
              "    .dataframe tbody tr th {\n",
              "        vertical-align: top;\n",
              "    }\n",
              "\n",
              "    .dataframe thead th {\n",
              "        text-align: right;\n",
              "    }\n",
              "</style>\n",
              "<table border=\"1\" class=\"dataframe\">\n",
              "  <thead>\n",
              "    <tr style=\"text-align: right;\">\n",
              "      <th></th>\n",
              "      <th>Unnamed: 0</th>\n",
              "      <th>title</th>\n",
              "      <th>parsed_content</th>\n",
              "      <th>date</th>\n",
              "      <th>time</th>\n",
              "    </tr>\n",
              "  </thead>\n",
              "  <tbody>\n",
              "    <tr>\n",
              "      <th>0</th>\n",
              "      <td>0</td>\n",
              "      <td>On-Foot Look at the Nike Air Force 1 Low \"Lege...</td>\n",
              "      <td>Easily one of the most iconic sneaker models ...</td>\n",
              "      <td>2021-06-17</td>\n",
              "      <td>18:12:46</td>\n",
              "    </tr>\n",
              "    <tr>\n",
              "      <th>1</th>\n",
              "      <td>1</td>\n",
              "      <td>5G will take center stage at Reliance’s 2021 a...</td>\n",
              "      <td>These are the core obsessions that drive our ...</td>\n",
              "      <td>2021-06-22</td>\n",
              "      <td>12:37:36</td>\n",
              "    </tr>\n",
              "    <tr>\n",
              "      <th>2</th>\n",
              "      <td>2</td>\n",
              "      <td>Asia's Richest Man Says No Option But to Make ...</td>\n",
              "      <td>(Bloomberg) -- Mukesh Ambani, Asia’s richest ...</td>\n",
              "      <td>2021-06-21</td>\n",
              "      <td>15:52:38</td>\n",
              "    </tr>\n",
              "    <tr>\n",
              "      <th>3</th>\n",
              "      <td>3</td>\n",
              "      <td>Mukesh Ambani says ‘no option’ but to make bus...</td>\n",
              "      <td>Mukesh Ambani, Asia’s richest man, plans to t...</td>\n",
              "      <td>2021-06-22</td>\n",
              "      <td>05:19:27</td>\n",
              "    </tr>\n",
              "    <tr>\n",
              "      <th>4</th>\n",
              "      <td>4</td>\n",
              "      <td>Reliance Jio Phone 5G – Specs, launch date and...</td>\n",
              "      <td>TechRadar is supported by its audience. When ...</td>\n",
              "      <td>2021-06-21</td>\n",
              "      <td>07:32:14</td>\n",
              "    </tr>\n",
              "  </tbody>\n",
              "</table>\n",
              "</div>"
            ],
            "text/plain": [
              "   Unnamed: 0  ...      time\n",
              "0           0  ...  18:12:46\n",
              "1           1  ...  12:37:36\n",
              "2           2  ...  15:52:38\n",
              "3           3  ...  05:19:27\n",
              "4           4  ...  07:32:14\n",
              "\n",
              "[5 rows x 5 columns]"
            ]
          },
          "metadata": {
            "tags": []
          },
          "execution_count": 6
        }
      ]
    },
    {
      "cell_type": "markdown",
      "metadata": {
        "id": "l3c5Bcq1llHK"
      },
      "source": [
        "Give column for which entity recognition is to be done"
      ]
    },
    {
      "cell_type": "code",
      "metadata": {
        "id": "ZKTWNDw9u4ON"
      },
      "source": [
        "data_column=data[\"title\"]"
      ],
      "execution_count": 7,
      "outputs": []
    },
    {
      "cell_type": "markdown",
      "metadata": {
        "id": "9zRctIdZAWVp"
      },
      "source": [
        "Spacy library contains pretrained deep learning model for named entity recognition"
      ]
    },
    {
      "cell_type": "code",
      "metadata": {
        "colab": {
          "base_uri": "https://localhost:8080/",
          "height": 35
        },
        "id": "uXHizJ56TgeO",
        "outputId": "b9277646-692f-499a-eade-af892a65df44"
      },
      "source": [
        "import spacy \n",
        "from spacy import displacy\n",
        "from spacy.lang.en import English\n",
        "spacy.__version__"
      ],
      "execution_count": 9,
      "outputs": [
        {
          "output_type": "execute_result",
          "data": {
            "application/vnd.google.colaboratory.intrinsic+json": {
              "type": "string"
            },
            "text/plain": [
              "'2.2.4'"
            ]
          },
          "metadata": {
            "tags": []
          },
          "execution_count": 9
        }
      ]
    },
    {
      "cell_type": "markdown",
      "metadata": {
        "id": "7kTgb2MF0hly"
      },
      "source": [
        "Loading Spacy Model"
      ]
    },
    {
      "cell_type": "code",
      "metadata": {
        "id": "U1i_z0KQTgb2"
      },
      "source": [
        "nlp = spacy.load(\"en_core_web_sm\")"
      ],
      "execution_count": 14,
      "outputs": []
    },
    {
      "cell_type": "markdown",
      "metadata": {
        "id": "QRusLuYC0nEv"
      },
      "source": [
        "Entity recognition "
      ]
    },
    {
      "cell_type": "code",
      "metadata": {
        "id": "PwLPlm98gKTG"
      },
      "source": [
        "entities1 = []\n",
        "labels1 = []\n",
        "for i in data_column:\n",
        "  doc = nlp(i)\n",
        "  for ent in doc.ents:\n",
        "      entities1.append(ent)\n",
        "      labels1.append(ent.label_)\n",
        "    \n",
        "df = pd.DataFrame({'Entities':entities1,'Labels':labels1})\n"
      ],
      "execution_count": 15,
      "outputs": []
    },
    {
      "cell_type": "code",
      "metadata": {
        "colab": {
          "base_uri": "https://localhost:8080/",
          "height": 417
        },
        "id": "unuX8-hpbx3F",
        "outputId": "f525f4ed-723c-4f44-ddb3-1519de5805e0"
      },
      "source": [
        "df"
      ],
      "execution_count": 16,
      "outputs": [
        {
          "output_type": "execute_result",
          "data": {
            "text/html": [
              "<div>\n",
              "<style scoped>\n",
              "    .dataframe tbody tr th:only-of-type {\n",
              "        vertical-align: middle;\n",
              "    }\n",
              "\n",
              "    .dataframe tbody tr th {\n",
              "        vertical-align: top;\n",
              "    }\n",
              "\n",
              "    .dataframe thead th {\n",
              "        text-align: right;\n",
              "    }\n",
              "</style>\n",
              "<table border=\"1\" class=\"dataframe\">\n",
              "  <thead>\n",
              "    <tr style=\"text-align: right;\">\n",
              "      <th></th>\n",
              "      <th>Entities</th>\n",
              "      <th>Labels</th>\n",
              "    </tr>\n",
              "  </thead>\n",
              "  <tbody>\n",
              "    <tr>\n",
              "      <th>0</th>\n",
              "      <td>(5)</td>\n",
              "      <td>CARDINAL</td>\n",
              "    </tr>\n",
              "    <tr>\n",
              "      <th>1</th>\n",
              "      <td>(Reliance)</td>\n",
              "      <td>ORG</td>\n",
              "    </tr>\n",
              "    <tr>\n",
              "      <th>2</th>\n",
              "      <td>(2021)</td>\n",
              "      <td>DATE</td>\n",
              "    </tr>\n",
              "    <tr>\n",
              "      <th>3</th>\n",
              "      <td>(Asia)</td>\n",
              "      <td>LOC</td>\n",
              "    </tr>\n",
              "    <tr>\n",
              "      <th>4</th>\n",
              "      <td>(Mukesh, Ambani)</td>\n",
              "      <td>PERSON</td>\n",
              "    </tr>\n",
              "    <tr>\n",
              "      <th>...</th>\n",
              "      <td>...</td>\n",
              "      <td>...</td>\n",
              "    </tr>\n",
              "    <tr>\n",
              "      <th>1507</th>\n",
              "      <td>(Euro, 2020)</td>\n",
              "      <td>LAW</td>\n",
              "    </tr>\n",
              "    <tr>\n",
              "      <th>1508</th>\n",
              "      <td>(2021)</td>\n",
              "      <td>DATE</td>\n",
              "    </tr>\n",
              "    <tr>\n",
              "      <th>1509</th>\n",
              "      <td>(WhatsApp)</td>\n",
              "      <td>ORG</td>\n",
              "    </tr>\n",
              "    <tr>\n",
              "      <th>1510</th>\n",
              "      <td>(India)</td>\n",
              "      <td>GPE</td>\n",
              "    </tr>\n",
              "    <tr>\n",
              "      <th>1511</th>\n",
              "      <td>(Modi)</td>\n",
              "      <td>ORG</td>\n",
              "    </tr>\n",
              "  </tbody>\n",
              "</table>\n",
              "<p>1512 rows × 2 columns</p>\n",
              "</div>"
            ],
            "text/plain": [
              "              Entities    Labels\n",
              "0                  (5)  CARDINAL\n",
              "1           (Reliance)       ORG\n",
              "2               (2021)      DATE\n",
              "3               (Asia)       LOC\n",
              "4     (Mukesh, Ambani)    PERSON\n",
              "...                ...       ...\n",
              "1507      (Euro, 2020)       LAW\n",
              "1508            (2021)      DATE\n",
              "1509        (WhatsApp)       ORG\n",
              "1510           (India)       GPE\n",
              "1511            (Modi)       ORG\n",
              "\n",
              "[1512 rows x 2 columns]"
            ]
          },
          "metadata": {
            "tags": []
          },
          "execution_count": 16
        }
      ]
    },
    {
      "cell_type": "markdown",
      "metadata": {
        "id": "4z03fIRky-5P"
      },
      "source": [
        "Now these entities columns contains spacy span tokens which can't be used as string for further plotting of data. So, we have to convert them to string format for ease of use."
      ]
    },
    {
      "cell_type": "markdown",
      "metadata": {
        "id": "Rr6pRk68m7JS"
      },
      "source": [
        "Converting Spacy tokens to string "
      ]
    },
    {
      "cell_type": "code",
      "metadata": {
        "id": "hT6JqjvPgWAz"
      },
      "source": [
        "k=0\n",
        "lst=[]\n",
        "for i in df[\"Entities\"]:\n",
        "  lst.append(i)\n",
        "  k+=1"
      ],
      "execution_count": 17,
      "outputs": []
    },
    {
      "cell_type": "code",
      "metadata": {
        "id": "jHj6KsR-4oex"
      },
      "source": [
        "kst=[]\n",
        "for i in lst:\n",
        "  kst.append(i.text)"
      ],
      "execution_count": 18,
      "outputs": []
    },
    {
      "cell_type": "code",
      "metadata": {
        "id": "YsA91LBk5HMx"
      },
      "source": [
        "df[\"entities_\"]=kst\n",
        "df=df.drop([\"Entities\"],axis=1)"
      ],
      "execution_count": 19,
      "outputs": []
    },
    {
      "cell_type": "markdown",
      "metadata": {
        "id": "pMLwchj9zw8m"
      },
      "source": [
        "Now entities are string"
      ]
    },
    {
      "cell_type": "code",
      "metadata": {
        "colab": {
          "base_uri": "https://localhost:8080/",
          "height": 417
        },
        "id": "tVNAlOoH5nya",
        "outputId": "4100c40d-0c5e-421e-edf5-ed09b445bbfe"
      },
      "source": [
        "df"
      ],
      "execution_count": 20,
      "outputs": [
        {
          "output_type": "execute_result",
          "data": {
            "text/html": [
              "<div>\n",
              "<style scoped>\n",
              "    .dataframe tbody tr th:only-of-type {\n",
              "        vertical-align: middle;\n",
              "    }\n",
              "\n",
              "    .dataframe tbody tr th {\n",
              "        vertical-align: top;\n",
              "    }\n",
              "\n",
              "    .dataframe thead th {\n",
              "        text-align: right;\n",
              "    }\n",
              "</style>\n",
              "<table border=\"1\" class=\"dataframe\">\n",
              "  <thead>\n",
              "    <tr style=\"text-align: right;\">\n",
              "      <th></th>\n",
              "      <th>Labels</th>\n",
              "      <th>entities_</th>\n",
              "    </tr>\n",
              "  </thead>\n",
              "  <tbody>\n",
              "    <tr>\n",
              "      <th>0</th>\n",
              "      <td>CARDINAL</td>\n",
              "      <td>5</td>\n",
              "    </tr>\n",
              "    <tr>\n",
              "      <th>1</th>\n",
              "      <td>ORG</td>\n",
              "      <td>Reliance</td>\n",
              "    </tr>\n",
              "    <tr>\n",
              "      <th>2</th>\n",
              "      <td>DATE</td>\n",
              "      <td>2021</td>\n",
              "    </tr>\n",
              "    <tr>\n",
              "      <th>3</th>\n",
              "      <td>LOC</td>\n",
              "      <td>Asia</td>\n",
              "    </tr>\n",
              "    <tr>\n",
              "      <th>4</th>\n",
              "      <td>PERSON</td>\n",
              "      <td>Mukesh Ambani</td>\n",
              "    </tr>\n",
              "    <tr>\n",
              "      <th>...</th>\n",
              "      <td>...</td>\n",
              "      <td>...</td>\n",
              "    </tr>\n",
              "    <tr>\n",
              "      <th>1507</th>\n",
              "      <td>LAW</td>\n",
              "      <td>Euro 2020</td>\n",
              "    </tr>\n",
              "    <tr>\n",
              "      <th>1508</th>\n",
              "      <td>DATE</td>\n",
              "      <td>2021</td>\n",
              "    </tr>\n",
              "    <tr>\n",
              "      <th>1509</th>\n",
              "      <td>ORG</td>\n",
              "      <td>WhatsApp</td>\n",
              "    </tr>\n",
              "    <tr>\n",
              "      <th>1510</th>\n",
              "      <td>GPE</td>\n",
              "      <td>India</td>\n",
              "    </tr>\n",
              "    <tr>\n",
              "      <th>1511</th>\n",
              "      <td>ORG</td>\n",
              "      <td>Modi</td>\n",
              "    </tr>\n",
              "  </tbody>\n",
              "</table>\n",
              "<p>1512 rows × 2 columns</p>\n",
              "</div>"
            ],
            "text/plain": [
              "        Labels      entities_\n",
              "0     CARDINAL              5\n",
              "1          ORG       Reliance\n",
              "2         DATE           2021\n",
              "3          LOC           Asia\n",
              "4       PERSON  Mukesh Ambani\n",
              "...        ...            ...\n",
              "1507       LAW      Euro 2020\n",
              "1508      DATE           2021\n",
              "1509       ORG       WhatsApp\n",
              "1510       GPE          India\n",
              "1511       ORG           Modi\n",
              "\n",
              "[1512 rows x 2 columns]"
            ]
          },
          "metadata": {
            "tags": []
          },
          "execution_count": 20
        }
      ]
    },
    {
      "cell_type": "code",
      "metadata": {
        "colab": {
          "base_uri": "https://localhost:8080/"
        },
        "id": "_e3XEboWl2CB",
        "outputId": "16b1342b-c294-48f7-afc2-f31d5a97cb76"
      },
      "source": [
        "df.value_counts()\n"
      ],
      "execution_count": 21,
      "outputs": [
        {
          "output_type": "execute_result",
          "data": {
            "text/plain": [
              "Labels    entities_        \n",
              "CARDINAL  5                    119\n",
              "GPE       India                 81\n",
              "PERSON    Jio                   64\n",
              "ORG       Reliance              23\n",
              "          WhatsApp              21\n",
              "                              ... \n",
              "          GIC                    1\n",
              "          G SoC                  1\n",
              "          G Network Rollout      1\n",
              "          Flipkart               1\n",
              "CARDINAL  1                      1\n",
              "Length: 444, dtype: int64"
            ]
          },
          "metadata": {
            "tags": []
          },
          "execution_count": 21
        }
      ]
    },
    {
      "cell_type": "markdown",
      "metadata": {
        "id": "c5NNwUqD1OQa"
      },
      "source": [
        "Plotting different charts"
      ]
    },
    {
      "cell_type": "markdown",
      "metadata": {
        "id": "Vl5RA1lQz2A7"
      },
      "source": [
        "# Plotting Charts for different Labels"
      ]
    },
    {
      "cell_type": "code",
      "metadata": {
        "id": "rfmS1wh0gKJ1"
      },
      "source": [
        "import matplotlib.pyplot as plt\n",
        "import seaborn as sns\n"
      ],
      "execution_count": 22,
      "outputs": []
    },
    {
      "cell_type": "markdown",
      "metadata": {
        "id": "uzfO_omkiFBG"
      },
      "source": [
        "# Plot for different label percentages "
      ]
    },
    {
      "cell_type": "code",
      "metadata": {
        "id": "_D1-xARngKGV",
        "colab": {
          "base_uri": "https://localhost:8080/",
          "height": 220
        },
        "outputId": "e0280075-2e25-4148-c28e-0a20bdca7800"
      },
      "source": [
        "df[\"Labels\"].value_counts(normalize=True).plot.bar(figsize=(4,2))\n",
        "plt.show()"
      ],
      "execution_count": 23,
      "outputs": [
        {
          "output_type": "display_data",
          "data": {
            "image/png": "[encoded data removed]",
            "text/plain": [
              "<Figure size 288x144 with 1 Axes>"
            ]
          },
          "metadata": {
            "tags": [],
            "needs_background": "light"
          }
        }
      ]
    },
    {
      "cell_type": "markdown",
      "metadata": {
        "id": "3s3tQ2tmhzei"
      },
      "source": [
        "# Plotting top 25 entities labelled \"ORG\" (Organisation)"
      ]
    },
    {
      "cell_type": "code",
      "metadata": {
        "id": "t5N9QnyHVBTa"
      },
      "source": [
        "importance_org = (df[\"entities_\"][df['Labels']=='ORG']).value_counts()"
      ],
      "execution_count": 24,
      "outputs": []
    },
    {
      "cell_type": "code",
      "metadata": {
        "colab": {
          "base_uri": "https://localhost:8080/",
          "height": 648
        },
        "id": "DZBtpgaq7q4A",
        "outputId": "da441ac4-98b3-41b7-fc4d-41c9115b2338"
      },
      "source": [
        "importance_org.nlargest(25).plot(kind=\"barh\",figsize=(30,15))"
      ],
      "execution_count": 25,
      "outputs": [
        {
          "output_type": "execute_result",
          "data": {
            "text/plain": [
              "<matplotlib.axes._subplots.AxesSubplot at 0x7f80d61487d0>"
            ]
          },
          "metadata": {
            "tags": []
          },
          "execution_count": 25
        },
        {
          "output_type": "display_data",
          "data": {
            "image/png": "[encoded data removed]",
            "text/plain": [
              "<Figure size 2160x1080 with 1 Axes>"
            ]
          },
          "metadata": {
            "tags": [],
            "needs_background": "light"
          }
        }
      ]
    },
    {
      "cell_type": "markdown",
      "metadata": {
        "id": "yhT601awg8_p"
      },
      "source": [
        "# Plotting top 25 entities labelled \"PERSON\""
      ]
    },
    {
      "cell_type": "code",
      "metadata": {
        "id": "_SX4pe5YbMXW"
      },
      "source": [
        "importance_person = (df[\"entities_\"][df['Labels']=='PERSON']).value_counts()"
      ],
      "execution_count": 26,
      "outputs": []
    },
    {
      "cell_type": "code",
      "metadata": {
        "colab": {
          "base_uri": "https://localhost:8080/",
          "height": 1000
        },
        "id": "_tfqkczabMUf",
        "outputId": "3be7597f-1281-4620-d9fa-88186af57315"
      },
      "source": [
        "importance_person.nlargest(25).plot(kind=\"barh\",figsize=(20,15))"
      ],
      "execution_count": 28,
      "outputs": [
        {
          "output_type": "execute_result",
          "data": {
            "text/plain": [
              "<matplotlib.axes._subplots.AxesSubplot at 0x7f80d5ff5150>"
            ]
          },
          "metadata": {
            "tags": []
          },
          "execution_count": 28
        },
        {
          "output_type": "stream",
          "text": [
            "/usr/local/lib/python3.7/dist-packages/matplotlib/backends/backend_agg.py:214: RuntimeWarning: Glyph 2354 missing from current font.\n",
            "  font.set_text(s, 0.0, flags=flags)\n",
            "/usr/local/lib/python3.7/dist-packages/matplotlib/backends/backend_agg.py:214: RuntimeWarning: Glyph 2375 missing from current font.\n",
            "  font.set_text(s, 0.0, flags=flags)\n",
            "/usr/local/lib/python3.7/dist-packages/matplotlib/backends/backend_agg.py:214: RuntimeWarning: Glyph 2325 missing from current font.\n",
            "  font.set_text(s, 0.0, flags=flags)\n",
            "/usr/local/lib/python3.7/dist-packages/matplotlib/backends/backend_agg.py:214: RuntimeWarning: Glyph 2352 missing from current font.\n",
            "  font.set_text(s, 0.0, flags=flags)\n",
            "/usr/local/lib/python3.7/dist-packages/matplotlib/backends/backend_agg.py:183: RuntimeWarning: Glyph 2354 missing from current font.\n",
            "  font.set_text(s, 0, flags=flags)\n",
            "/usr/local/lib/python3.7/dist-packages/matplotlib/backends/backend_agg.py:183: RuntimeWarning: Glyph 2375 missing from current font.\n",
            "  font.set_text(s, 0, flags=flags)\n",
            "/usr/local/lib/python3.7/dist-packages/matplotlib/backends/backend_agg.py:183: RuntimeWarning: Glyph 2325 missing from current font.\n",
            "  font.set_text(s, 0, flags=flags)\n",
            "/usr/local/lib/python3.7/dist-packages/matplotlib/backends/backend_agg.py:183: RuntimeWarning: Glyph 2352 missing from current font.\n",
            "  font.set_text(s, 0, flags=flags)\n"
          ],
          "name": "stderr"
        },
        {
          "output_type": "display_data",
          "data": {
            "image/png": "[encoded data removed]",
            "text/plain": [
              "<Figure size 1440x1080 with 1 Axes>"
            ]
          },
          "metadata": {
            "tags": [],
            "needs_background": "light"
          }
        }
      ]
    },
    {
      "cell_type": "markdown",
      "metadata": {
        "id": "URlsLVl1g9uL"
      },
      "source": [
        "# Plotting top 5 entities labelled \"PRODUCT\""
      ]
    },
    {
      "cell_type": "code",
      "metadata": {
        "id": "ASKM6YmSgo5v"
      },
      "source": [
        "importance_product = (df[\"entities_\"][df['Labels']=='PRODUCT']).value_counts()"
      ],
      "execution_count": 29,
      "outputs": []
    },
    {
      "cell_type": "code",
      "metadata": {
        "colab": {
          "base_uri": "https://localhost:8080/",
          "height": 337
        },
        "id": "oSB0QRjigo2v",
        "outputId": "2a627920-dde9-49af-c1aa-0c5bf9c64488"
      },
      "source": [
        "importance_product.nlargest(5).plot(kind=\"barh\",figsize=(15,5))"
      ],
      "execution_count": 30,
      "outputs": [
        {
          "output_type": "execute_result",
          "data": {
            "text/plain": [
              "<matplotlib.axes._subplots.AxesSubplot at 0x7f80d5e99990>"
            ]
          },
          "metadata": {
            "tags": []
          },
          "execution_count": 30
        },
        {
          "output_type": "display_data",
          "data": {
            "image/png": "[encoded data removed]",
            "text/plain": [
              "<Figure size 1080x360 with 1 Axes>"
            ]
          },
          "metadata": {
            "tags": [],
            "needs_background": "light"
          }
        }
      ]
    },
    {
      "cell_type": "markdown",
      "metadata": {
        "id": "EqOp4wBvg-UB"
      },
      "source": [
        "#Plotting top 15 entities labelled \"NORP\" (Nationalities or religious or political groups.)"
      ]
    },
    {
      "cell_type": "code",
      "metadata": {
        "id": "QbkWqZeXgoI_"
      },
      "source": [
        "importance_norp = (df[\"entities_\"][df['Labels']=='NORP']).value_counts()"
      ],
      "execution_count": 31,
      "outputs": []
    },
    {
      "cell_type": "code",
      "metadata": {
        "colab": {
          "base_uri": "https://localhost:8080/",
          "height": 711
        },
        "id": "XXbIw4BygoFG",
        "outputId": "255a4f93-f5ab-4f5e-b00e-c0edabc2ff4b"
      },
      "source": [
        "importance_norp.nlargest(15).plot(kind=\"barh\",figsize=(30,15))"
      ],
      "execution_count": 32,
      "outputs": [
        {
          "output_type": "execute_result",
          "data": {
            "text/plain": [
              "<matplotlib.axes._subplots.AxesSubplot at 0x7f80d5e0c690>"
            ]
          },
          "metadata": {
            "tags": []
          },
          "execution_count": 32
        },
        {
          "output_type": "display_data",
          "data": {
            "image/png": "[encoded data removed]",
            "text/plain": [
              "<Figure size 2160x1080 with 1 Axes>"
            ]
          },
          "metadata": {
            "tags": [],
            "needs_background": "light"
          }
        }
      ]
    },
    {
      "cell_type": "markdown",
      "metadata": {
        "id": "RFiERqnthD7H"
      },
      "source": [
        "#Generating csv file for top n entities ( Including all labels)"
      ]
    },
    {
      "cell_type": "code",
      "metadata": {
        "id": "6I6zPgyE8fPP"
      },
      "source": [
        "n=100\n",
        "top_n_levels=pd.DataFrame(df[\"entities_\"].value_counts().head(n))"
      ],
      "execution_count": 33,
      "outputs": []
    },
    {
      "cell_type": "code",
      "metadata": {
        "colab": {
          "base_uri": "https://localhost:8080/",
          "height": 417
        },
        "id": "RHzm_OTGKtw1",
        "outputId": "37274b43-c303-4697-f50c-dd499ad11f24"
      },
      "source": [
        "top_n_levels"
      ],
      "execution_count": 34,
      "outputs": [
        {
          "output_type": "execute_result",
          "data": {
            "text/html": [
              "<div>\n",
              "<style scoped>\n",
              "    .dataframe tbody tr th:only-of-type {\n",
              "        vertical-align: middle;\n",
              "    }\n",
              "\n",
              "    .dataframe tbody tr th {\n",
              "        vertical-align: top;\n",
              "    }\n",
              "\n",
              "    .dataframe thead th {\n",
              "        text-align: right;\n",
              "    }\n",
              "</style>\n",
              "<table border=\"1\" class=\"dataframe\">\n",
              "  <thead>\n",
              "    <tr style=\"text-align: right;\">\n",
              "      <th></th>\n",
              "      <th>entities_</th>\n",
              "    </tr>\n",
              "  </thead>\n",
              "  <tbody>\n",
              "    <tr>\n",
              "      <th>5</th>\n",
              "      <td>119</td>\n",
              "    </tr>\n",
              "    <tr>\n",
              "      <th>India</th>\n",
              "      <td>81</td>\n",
              "    </tr>\n",
              "    <tr>\n",
              "      <th>Jio</th>\n",
              "      <td>80</td>\n",
              "    </tr>\n",
              "    <tr>\n",
              "      <th>Reliance</th>\n",
              "      <td>24</td>\n",
              "    </tr>\n",
              "    <tr>\n",
              "      <th>Airtel</th>\n",
              "      <td>21</td>\n",
              "    </tr>\n",
              "    <tr>\n",
              "      <th>...</th>\n",
              "      <td>...</td>\n",
              "    </tr>\n",
              "    <tr>\n",
              "      <th>DHFL</th>\n",
              "      <td>3</td>\n",
              "    </tr>\n",
              "    <tr>\n",
              "      <th>Row With US Tech Giants</th>\n",
              "      <td>3</td>\n",
              "    </tr>\n",
              "    <tr>\n",
              "      <th>Music-Streaming Power Broker Rishi Malhotra</th>\n",
              "      <td>3</td>\n",
              "    </tr>\n",
              "    <tr>\n",
              "      <th>Prepaid Recharge Plan Back</th>\n",
              "      <td>3</td>\n",
              "    </tr>\n",
              "    <tr>\n",
              "      <th>â Jio</th>\n",
              "      <td>3</td>\n",
              "    </tr>\n",
              "  </tbody>\n",
              "</table>\n",
              "<p>100 rows × 1 columns</p>\n",
              "</div>"
            ],
            "text/plain": [
              "                                             entities_\n",
              "5                                                  119\n",
              "India                                               81\n",
              "Jio                                                 80\n",
              "Reliance                                            24\n",
              "Airtel                                              21\n",
              "...                                                ...\n",
              "DHFL                                                 3\n",
              "Row With US Tech Giants                              3\n",
              "Music-Streaming Power Broker Rishi Malhotra          3\n",
              "Prepaid Recharge Plan Back                           3\n",
              "â Jio                                              3\n",
              "\n",
              "[100 rows x 1 columns]"
            ]
          },
          "metadata": {
            "tags": []
          },
          "execution_count": 34
        }
      ]
    },
    {
      "cell_type": "code",
      "metadata": {
        "id": "uYLni1m5K56O"
      },
      "source": [
        "data.to_csv('top_n_entities1.csv')\n",
        "!cp top_n_entities1.csv \"/content/gdrive/My Drive/jiomeetDS\""
      ],
      "execution_count": null,
      "outputs": []
    }
  ]
}